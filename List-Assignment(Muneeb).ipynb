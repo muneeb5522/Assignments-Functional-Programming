{
 "cells": [
  {
   "cell_type": "markdown",
   "id": "0a8af8c7-0fe5-4c48-87dc-c11a70473b48",
   "metadata": {},
   "source": [
    "### 1. Write a program that accepts a list from user and print the alternate element of list."
   ]
  },
  {
   "cell_type": "code",
   "execution_count": 3,
   "id": "53965472-0663-4850-8233-3ae5784c3fc4",
   "metadata": {},
   "outputs": [
    {
     "name": "stdin",
     "output_type": "stream",
     "text": [
      "Enter the elements of the list separated by spaces:  1 2 3 4 5 6\n"
     ]
    },
    {
     "name": "stdout",
     "output_type": "stream",
     "text": [
      "Alternate elements of the list are:\n",
      "1\n",
      "3\n",
      "5\n"
     ]
    }
   ],
   "source": [
    "user_input = input(\"Enter the elements of the list separated by spaces: \")\n",
    "user_list = user_input.split()\n",
    "\n",
    "print(\"Alternate elements of the list are:\")\n",
    "for i in range(0, len(user_list), 2):\n",
    "    print(user_list[i])\n"
   ]
  },
  {
   "cell_type": "markdown",
   "id": "21a9f0a6-db41-4f7d-9c03-68d4cc75a3d8",
   "metadata": {},
   "source": [
    "### 2. Write a program that accepts a list from user. Your program should reverse the content of list and\n",
    "### display it. Do not use reverse() method."
   ]
  },
  {
   "cell_type": "code",
   "execution_count": 4,
   "id": "2d4312fc-95d8-4909-944f-f409b6d6390b",
   "metadata": {},
   "outputs": [
    {
     "name": "stdin",
     "output_type": "stream",
     "text": [
      "Enter the elements of the list separated by spaces:  1 2 3 4 5\n"
     ]
    },
    {
     "name": "stdout",
     "output_type": "stream",
     "text": [
      "Reversed list is:\n",
      "['5', '4', '3', '2', '1']\n"
     ]
    }
   ],
   "source": [
    "user_input = input(\"Enter the elements of the list separated by spaces: \")\n",
    "user_list = user_input.split()\n",
    "\n",
    "reversed_list = user_list[::-1] \n",
    "print(\"Reversed list is:\")\n",
    "print(reversed_list)\n"
   ]
  },
  {
   "cell_type": "markdown",
   "id": "4c8b1301-cb1a-489c-b282-41d90eae240f",
   "metadata": {},
   "source": [
    "### 3. Find and display the largest number of a list without using built-in function max(). Your program\n",
    "### should ask the user to input values in list from keyboard."
   ]
  },
  {
   "cell_type": "code",
   "execution_count": 5,
   "id": "d8988d34-227a-43c4-bae4-5f469fdc13c0",
   "metadata": {},
   "outputs": [
    {
     "name": "stdin",
     "output_type": "stream",
     "text": [
      "Enter numbers separated by spaces:  5 10 3 8 5\n"
     ]
    },
    {
     "name": "stdout",
     "output_type": "stream",
     "text": [
      "The largest number is: 10\n"
     ]
    }
   ],
   "source": [
    "user_input = input(\"Enter numbers separated by spaces: \")\n",
    "user_list = [int(x) for x in user_input.split()]\n",
    "\n",
    "largest = user_list[0]\n",
    "for num in user_list:\n",
    "    if num > largest:\n",
    "        largest = num\n",
    "\n",
    "print(\"The largest number is:\", largest)\n"
   ]
  },
  {
   "cell_type": "markdown",
   "id": "bb14700f-af15-4fb3-be02-ce7e0342d95e",
   "metadata": {},
   "source": [
    "### 4. Write a program that rotates the element of a list so that the element at the first index moves to the\n",
    "### second index, the element in the second index moves to the third index, etc., and the element in the last\n",
    "### index moves to the first index."
   ]
  },
  {
   "cell_type": "code",
   "execution_count": 6,
   "id": "7371d5ab-9699-45dd-8f2b-b5a7f6baf30c",
   "metadata": {},
   "outputs": [
    {
     "name": "stdin",
     "output_type": "stream",
     "text": [
      "Enter list elements separated by spaces:  1 2 3 4 5\n"
     ]
    },
    {
     "name": "stdout",
     "output_type": "stream",
     "text": [
      "Rotated list is: ['5', '1', '2', '3', '4']\n"
     ]
    }
   ],
   "source": [
    "user_input = input(\"Enter list elements separated by spaces: \")\n",
    "user_list = user_input.split()\n",
    "\n",
    "rotated_list = user_list[-1:] + user_list[:-1]\n",
    "print(\"Rotated list is:\", rotated_list)\n",
    "``"
   ]
  },
  {
   "cell_type": "markdown",
   "id": "c72582e6-ba57-4057-9495-16765faefca5",
   "metadata": {},
   "source": [
    "### 5. Write a program that input a string and ask user to delete a given word from a string."
   ]
  },
  {
   "cell_type": "code",
   "execution_count": 7,
   "id": "d2e06c57-125e-4e84-b0f0-92da49551b5d",
   "metadata": {},
   "outputs": [
    {
     "name": "stdin",
     "output_type": "stream",
     "text": [
      "Enter a sentence:  Python is fun and it is very powerful\n",
      "Enter the word to delete:  very\n"
     ]
    },
    {
     "name": "stdout",
     "output_type": "stream",
     "text": [
      "Updated string: Python is fun and it is  powerful\n"
     ]
    }
   ],
   "source": [
    "input_string = input(\"Enter a sentence: \")\n",
    "word_to_delete = input(\"Enter the word to delete: \")\n",
    "\n",
    "new_string = input_string.replace(word_to_delete, \"\").strip()  \n",
    "print(\"Updated string:\", new_string)\n"
   ]
  },
  {
   "cell_type": "markdown",
   "id": "b4bb0b36-e11f-4ab3-abe1-c9e83b7f05b8",
   "metadata": {},
   "source": [
    "### 6. Write a program that reads a string from the user containing a date in the form mm/dd/yyyy. It\n",
    "### should print the date in the form March 12, 2021."
   ]
  },
  {
   "cell_type": "code",
   "execution_count": 9,
   "id": "f59c59e2-3eb6-4301-a62e-0ad7c505bf35",
   "metadata": {},
   "outputs": [
    {
     "name": "stdin",
     "output_type": "stream",
     "text": [
      "Enter a date in mm/dd/yyyy format:  03/12/2024\n"
     ]
    },
    {
     "name": "stdout",
     "output_type": "stream",
     "text": [
      "Formatted date: March 12, 2024\n"
     ]
    }
   ],
   "source": [
    "months = [\"January\", \"February\", \"March\", \"April\", \"May\", \"June\", \n",
    "          \"July\", \"August\", \"September\", \"October\", \"November\", \"December\"]\n",
    "\n",
    "date_input = input(\"Enter a date in mm/dd/yyyy format: \")\n",
    "month, day, year = date_input.split(\"/\")\n",
    "\n",
    "month_name = months[int(month) - 1]\n",
    "print(f\"Formatted date: {month_name} {int(day)}, {year}\")\n"
   ]
  },
  {
   "cell_type": "markdown",
   "id": "b5ab6c8a-bc08-41ea-8ed9-ff5c1d0bf8eb",
   "metadata": {},
   "source": [
    "### 7. Write a program with a function that accepts a string from keyboard and create a new string after\n",
    "### converting character of each word capitalized. For instance, if the sentence is \"stop and smell the roses.\"\n",
    "### the output should be \"Stop And Smell The Roses\""
   ]
  },
  {
   "cell_type": "code",
   "execution_count": 10,
   "id": "41a71afe-a3aa-40da-aa20-d77981aee274",
   "metadata": {},
   "outputs": [
    {
     "name": "stdin",
     "output_type": "stream",
     "text": [
      "Enter a sentence:  hi how are u?\n"
     ]
    },
    {
     "name": "stdout",
     "output_type": "stream",
     "text": [
      "Updated sentence: Hi How Are U?\n"
     ]
    }
   ],
   "source": [
    "def capitalize_words(sentence):\n",
    "    words = sentence.split()  # Split the sentence into words\n",
    "    capitalized_words = [word.capitalize() for word in words]  # Capitalize each word\n",
    "    return \" \".join(capitalized_words)  # Join the words back into a sentence\n",
    "\n",
    "sentence = input(\"Enter a sentence: \")\n",
    "new_sentence = capitalize_words(sentence)\n",
    "print(\"Updated sentence:\", new_sentence)\n"
   ]
  },
  {
   "cell_type": "raw",
   "id": "2a596c4b-e3cc-48c4-b334-d27c28977f0f",
   "metadata": {},
   "source": [
    "8. Find the sum of each row of matrix of size m x n. For example for the following matrix output will be\n",
    "like this :\n",
    "\n",
    "Sum of row 1 = 32\n",
    "Sum of row 2 = 31\n",
    "Sum of row 3 = 63\n"
   ]
  },
  {
   "cell_type": "code",
   "execution_count": 11,
   "id": "2e78008d-6d08-4732-b455-6311e0f6902b",
   "metadata": {},
   "outputs": [
    {
     "name": "stdout",
     "output_type": "stream",
     "text": [
      "Sum of row 1 = 32\n",
      "Sum of row 2 = 31\n",
      "Sum of row 3 = 63\n"
     ]
    }
   ],
   "source": [
    "matrix = [\n",
    "    [2, 11, 7, 12],\n",
    "    [5, 2, 9, 15],\n",
    "    [8, 3, 10, 42]\n",
    "]\n",
    "\n",
    "for i, row in enumerate(matrix):\n",
    "    row_sum = sum(row)  # Sum of the current row\n",
    "    print(f\"Sum of row {i + 1} = {row_sum}\")\n"
   ]
  },
  {
   "cell_type": "markdown",
   "id": "6b6b8789-732e-4f0d-8705-ba1f76589b83",
   "metadata": {},
   "source": [
    "### 9. Write a program to add two matrices of size n x m."
   ]
  },
  {
   "cell_type": "code",
   "execution_count": 12,
   "id": "87d5eb31-ff67-489b-98ea-d0ea78836560",
   "metadata": {},
   "outputs": [
    {
     "name": "stdout",
     "output_type": "stream",
     "text": [
      "[10, 10, 10]\n",
      "[10, 10, 10]\n",
      "[10, 10, 10]\n"
     ]
    }
   ],
   "source": [
    "def add_matrices(matrix1, matrix2):\n",
    "    result = []\n",
    "    for i in range(len(matrix1)):\n",
    "        row = []\n",
    "        for j in range(len(matrix1[i])):\n",
    "            row.append(matrix1[i][j] + matrix2[i][j])\n",
    "        result.append(row)\n",
    "    return result\n",
    "\n",
    "matrix1 = [\n",
    "    [1, 2, 3],\n",
    "    [4, 5, 6],\n",
    "    [7, 8, 9]\n",
    "]\n",
    "\n",
    "matrix2 = [\n",
    "    [9, 8, 7],\n",
    "    [6, 5, 4],\n",
    "    [3, 2, 1]\n",
    "]\n",
    "\n",
    "result_matrix = add_matrices(matrix1, matrix2)\n",
    "\n",
    "for row in result_matrix:\n",
    "    print(row)\n"
   ]
  },
  {
   "cell_type": "markdown",
   "id": "3852b770-e778-4f6d-bbd8-803618bd9876",
   "metadata": {},
   "source": [
    "### 10. Write a program to multiply two matrices"
   ]
  },
  {
   "cell_type": "code",
   "execution_count": 13,
   "id": "8cc1488b-bde2-4be5-b2dc-0974f67c53aa",
   "metadata": {},
   "outputs": [
    {
     "name": "stdout",
     "output_type": "stream",
     "text": [
      "[58, 64]\n",
      "[139, 154]\n"
     ]
    }
   ],
   "source": [
    "def multiply_matrices(matrix1, matrix2):\n",
    "    result = []\n",
    "    for i in range(len(matrix1)):\n",
    "        row = []\n",
    "        for j in range(len(matrix2[0])):\n",
    "            value = 0\n",
    "            for k in range(len(matrix2)):\n",
    "                value += matrix1[i][k] * matrix2[k][j]\n",
    "            row.append(value)\n",
    "        result.append(row)\n",
    "    return result\n",
    "\n",
    "matrix1 = [\n",
    "    [1, 2, 3],\n",
    "    [4, 5, 6]\n",
    "]\n",
    "\n",
    "matrix2 = [\n",
    "    [7, 8],\n",
    "    [9, 10],\n",
    "    [11, 12]\n",
    "]\n",
    "\n",
    "result_matrix = multiply_matrices(matrix1, matrix2)\n",
    "\n",
    "for row in result_matrix:\n",
    "    print(row)\n"
   ]
  },
  {
   "cell_type": "code",
   "execution_count": null,
   "id": "9108916a-e802-4478-b846-54e2b6686ed4",
   "metadata": {},
   "outputs": [],
   "source": []
  }
 ],
 "metadata": {
  "kernelspec": {
   "display_name": "Python 3 (ipykernel)",
   "language": "python",
   "name": "python3"
  },
  "language_info": {
   "codemirror_mode": {
    "name": "ipython",
    "version": 3
   },
   "file_extension": ".py",
   "mimetype": "text/x-python",
   "name": "python",
   "nbconvert_exporter": "python",
   "pygments_lexer": "ipython3",
   "version": "3.11.5"
  }
 },
 "nbformat": 4,
 "nbformat_minor": 5
}
