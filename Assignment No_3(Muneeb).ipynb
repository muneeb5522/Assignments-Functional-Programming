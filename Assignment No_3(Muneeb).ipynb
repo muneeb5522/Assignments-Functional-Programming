{
 "cells": [
  {
   "cell_type": "markdown",
   "id": "9772bf48",
   "metadata": {},
   "source": [
    "# Python If Else Practice Questions"
   ]
  },
  {
   "cell_type": "markdown",
   "id": "5815bbf9",
   "metadata": {},
   "source": [
    "## A-\tDiscounts and Pricing"
   ]
  },
  {
   "cell_type": "markdown",
   "id": "dabbd309",
   "metadata": {},
   "source": [
    "1.\tCheck Discount Eligibility\n",
    "Write a program to check if a customer is eligible for a discount. If the total purchase is more than $100, apply a 10% discount and display the final price. Otherwise, display the total price as it is.\n"
   ]
  },
  {
   "cell_type": "code",
   "execution_count": null,
   "id": "d4fa7f6c",
   "metadata": {},
   "outputs": [],
   "source": [
    "total_purchase=int(input('Enter The Total Purchase in Dollars: '))\n",
    "if total_purchase>100:\n",
    "    disc=int(total_purchase*0.10)\n",
    "    print(f\"Total Purchase Amount: ${total_purchase}\")\n",
    "    print(f\"Discount Availed: ${total_purchase}\")\n",
    "    print(f\"Total Payable : ${total_purchase-disc}\")\n",
    "else:\n",
    "    print(f\"The Total Price You Have to Pay is ${total_purchase}\")\n",
    "    \n",
    " "
   ]
  },
  {
   "cell_type": "markdown",
   "id": "ade616a8",
   "metadata": {},
   "source": [
    "2.\tCalculate Bulk Discount\n",
    "If a customer buys more than 5 items, apply a 15% discount on the total price. Otherwise, no discount is applied. Display the total price.\n"
   ]
  },
  {
   "cell_type": "code",
   "execution_count": null,
   "id": "ca47e5b9",
   "metadata": {},
   "outputs": [],
   "source": [
    "total_items=int(input(\"Please Enter The No Of Items You Purchased: \"))\n",
    "total_amount=int(input(\"Please Enter The Total Amount: \"))\n",
    "if total_items>5:\n",
    "    disc=int(total_amount*0.15)\n",
    "    print(f\"The Total Amount You Have to Pay is {total_amount-disc}\")\n",
    "else:\n",
    "          print(f\"The Total Amount You Have to Pay is {total_amount}\")\n",
    "\n"
   ]
  },
  {
   "cell_type": "markdown",
   "id": "eac30129",
   "metadata": {},
   "source": [
    "3.\tMembership Discount\n",
    "Check if the customer is a member (is_member = True). Members get a 20% discount; non-members get a 5% discount. Calculate and print the discounted price.\n"
   ]
  },
  {
   "cell_type": "code",
   "execution_count": null,
   "id": "ba7c9676",
   "metadata": {},
   "outputs": [],
   "source": [
    "price =10000\n",
    "is_member=input(\"Are You A Member or not(Y/N): \").lower()\n",
    "if is_member=='y':\n",
    "    print(f\"You are a member, Will have to pay{price*.80}\")\n",
    "else:\n",
    "    print(f\"You are non member will have to pay {price*.95}\")\n",
    "    \n",
    "    "
   ]
  },
  {
   "cell_type": "markdown",
   "id": "b1bda55b",
   "metadata": {},
   "source": [
    "]4.\tSeasonal Sale\n",
    "If today is a holiday (is_holiday = True), apply a 25% discount; otherwise, apply a 10% discount. Calculate the price after discount.\n"
   ]
  },
  {
   "cell_type": "code",
   "execution_count": null,
   "id": "a6599db1",
   "metadata": {},
   "outputs": [],
   "source": [
    "price=int(input(\"Please Enter the Price: \"))\n",
    "is_holiday=input(\"Is Today Holiday (Y/N) : \").lower()\n",
    "if is_holiday=='y':\n",
    "    print(f\"Today is holiday you have to pay {price*.75}\")\n",
    "else:\n",
    "    print(f\"Today is No holiday you have to pay {price*.90}\")\n",
    "    \n"
   ]
  },
  {
   "cell_type": "markdown",
   "id": "bb2dba1d",
   "metadata": {},
   "source": [
    "5.\tBuy-One-Get-One-Free\n",
    "If a customer buys an even number of items, they get half of them for free. Otherwise, they pay for all. Calculate the number of items the customer has to pay for.\n"
   ]
  },
  {
   "cell_type": "code",
   "execution_count": null,
   "id": "d9f332c9",
   "metadata": {},
   "outputs": [],
   "source": [
    "no_items=int(input(\"Enter No of items bought : \"))\n",
    "price=int(input(\"Enter Price of items: \"))\n",
    "if no_items%2==0:\n",
    "    print(f\"You have to pay {price*.50} due to buying of even no of items \")\n",
    "else:\n",
    "    print(f\"You have to pay {price} due to buying of odd no of items \")\n",
    "\n",
    "    "
   ]
  },
  {
   "cell_type": "markdown",
   "id": "16012848",
   "metadata": {},
   "source": [
    "# B-\tTax Calculations"
   ]
  },
  {
   "cell_type": "markdown",
   "id": "be5e9ccb",
   "metadata": {},
   "source": [
    "6.\tSales Tax\n",
    "If the price of an item is greater than $500, apply a luxury tax of 15%. Otherwise, apply a standard tax of 8%. Display the total price after tax.\n"
   ]
  },
  {
   "cell_type": "code",
   "execution_count": 12,
   "id": "8b42e71c",
   "metadata": {},
   "outputs": [
    {
     "name": "stdout",
     "output_type": "stream",
     "text": [
      "Please Enter the price of item in dollars: 400\n",
      "The Total price after  tax is 432.0 \n"
     ]
    }
   ],
   "source": [
    "price_item=int(input(\"Please Enter the price of item in dollars: \"))\n",
    "if price_item>500:\n",
    "    tax=price_item*.15\n",
    "else:\n",
    "    tax=price_item*.08\n",
    "total_price=price_item+tax\n",
    "print(f\"The Total price after  tax is {total_price} \" )\n",
    "\n",
    "    "
   ]
  },
  {
   "cell_type": "markdown",
   "id": "6395814a",
   "metadata": {},
   "source": [
    "7.\tIncome Tax\n",
    "If a person's annual income is above $50,000, they pay 20% tax. Otherwise, they pay 10%. Calculate and display the tax amount.\n"
   ]
  },
  {
   "cell_type": "code",
   "execution_count": 5,
   "id": "2e3b6426",
   "metadata": {},
   "outputs": [
    {
     "name": "stdout",
     "output_type": "stream",
     "text": [
      "Please Enter Your Annual Income in Dollars: 51000\n",
      "The tax you have to pay is 10200.0 \n"
     ]
    }
   ],
   "source": [
    "annual_income=int(input(\"Please Enter Your Annual Income in Dollars: \"))\n",
    "if annual_income>50000:\n",
    "    tax=annual_income*.20\n",
    "else:\n",
    "    tax=annual_income*.10\n",
    "print(f\"The tax you have to pay is {tax} \")"
   ]
  },
  {
   "cell_type": "markdown",
   "id": "3726d9e4",
   "metadata": {},
   "source": [
    "8.\tTax Bracket\n",
    "Write a program to categorize a person into tax brackets:\n",
    "\t-Income < $30,000: \"Low Tax\"\n",
    "\t-$30,000 ≤ Income < $100,000: \"Medium Tax\"\n",
    "\t-Income ≥ $100,000: \"High Tax\"\n"
   ]
  },
  {
   "cell_type": "code",
   "execution_count": 7,
   "id": "420163e8",
   "metadata": {},
   "outputs": [
    {
     "name": "stdout",
     "output_type": "stream",
     "text": [
      "Please Enter Your Income in dollars: 100000\n",
      "High Tax\n"
     ]
    }
   ],
   "source": [
    "income=int(input(\"Please Enter Your Income in dollars: \"))\n",
    "if income<30000:\n",
    "    print(\"Low Tax\")\n",
    "elif income>=30000 and income<100000:\n",
    "    print(\"Medium Tax\")\n",
    "else:\n",
    "    print(\"High Tax\")"
   ]
  },
  {
   "cell_type": "markdown",
   "id": "22c789cc",
   "metadata": {},
   "source": [
    "9.\tVAT Calculation\n",
    "If the item is marked as essential (is_essential = True), apply a VAT of 5%. Otherwise, apply a VAT of 12%. Display the final price.\n"
   ]
  },
  {
   "cell_type": "code",
   "execution_count": 11,
   "id": "b0e12baf",
   "metadata": {},
   "outputs": [
    {
     "name": "stdout",
     "output_type": "stream",
     "text": [
      "Enter the price of item: 500\n",
      "Id this Item Essential (Y/N) :y\n",
      "The Total price you have to pay is 525.0\n"
     ]
    }
   ],
   "source": [
    "price=int(input(\"Enter the price of item: \"))\n",
    "item=input(\"Id this Item Essential (Y/N) :\").lower()\n",
    "if item=='y':\n",
    "    vat=price*.05\n",
    "else:\n",
    "    vat=price*.12\n",
    "print(f\"The Total price you have to pay is {price+vat}\")"
   ]
  },
  {
   "cell_type": "markdown",
   "id": "b0e03603",
   "metadata": {},
   "source": [
    "10.\tTax-Free Day\n",
    "If today is a tax-free day (tax_free = True), display the original price. Otherwise, add a 7% tax.\n"
   ]
  },
  {
   "cell_type": "code",
   "execution_count": 7,
   "id": "a2f85adb",
   "metadata": {},
   "outputs": [
    {
     "name": "stdout",
     "output_type": "stream",
     "text": [
      "Enter the Price: 6000\n",
      "Is today tax free day (Y/N)n\n",
      "You have to pay 6420.0\n"
     ]
    }
   ],
   "source": [
    "price=int(input(\"Enter the Price: \"))\n",
    "tax_free_day=input(\"Is today tax free day (Y/N)\").lower()\n",
    "if tax_free_day=='y':\n",
    "    print(f\"As Today is Tax Free Day So the Price You Have To Pay is {price}\")\n",
    "else:\n",
    "          print(f\"You have to pay {price+price*.07}\")\n",
    "    "
   ]
  },
  {
   "cell_type": "markdown",
   "id": "9fbadb56",
   "metadata": {},
   "source": [
    "# C-\tShopping and Billing\n",
    "11.\tFree Shipping\n",
    "If the total purchase amount is more than $50, offer free shipping; otherwise, charge $5 for shipping. Display the total amount including shipping.\n"
   ]
  },
  {
   "cell_type": "code",
   "execution_count": 9,
   "id": "c168f29c",
   "metadata": {},
   "outputs": [
    {
     "name": "stdout",
     "output_type": "stream",
     "text": [
      "Please Enter the Total Purchase Amount in dollars: 40\n",
      "Your Total Amount Including Shipping is: 45\n"
     ]
    }
   ],
   "source": [
    "total_purchase=int(input(\"Please Enter the Total Purchase Amount in dollars: \"))\n",
    "if total_purchase>50:\n",
    "    print(f\"Your Total Amount Including Shipping is: {total_purchase}\")\n",
    "else:\n",
    "    print(f\"Your Total Amount Including Shipping is: {total_purchase+5}\")\n"
   ]
  },
  {
   "cell_type": "markdown",
   "id": "9d6775e6",
   "metadata": {},
   "source": [
    "12.\tDiscount Code\n",
    "If a customer enters the correct discount code (DISCOUNT10), apply a 10% discount. Otherwise, charge the full amount.\n"
   ]
  },
  {
   "cell_type": "code",
   "execution_count": 12,
   "id": "7d7a59ad",
   "metadata": {},
   "outputs": [
    {
     "name": "stdout",
     "output_type": "stream",
     "text": [
      "Please Enter the Amount: 600\n",
      "Enter the Discount Code: guhjkhk\n",
      "You have to pay 600\n"
     ]
    }
   ],
   "source": [
    "amount=int(input(\"Please Enter the Amount: \"))\n",
    "disc_code=input(\"Enter the Discount Code: \").upper()\n",
    "if disc_code=='DISCOUNT10':\n",
    "    print(f\"You have to pay {amount*.95}\")\n",
    "else:\n",
    "    print(f\"You have to pay {amount}\")"
   ]
  },
  {
   "cell_type": "markdown",
   "id": "f39863c5",
   "metadata": {},
   "source": [
    "13.\tTiered Discounts\n",
    "Apply discounts based on the total price:\n",
    "\t$0–$50: No discount.\n",
    "\t$50–$100: 10% discount.\n",
    "\tOver $100: 20% discount.\n"
   ]
  },
  {
   "cell_type": "code",
   "execution_count": 20,
   "id": "0d42b484",
   "metadata": {},
   "outputs": [
    {
     "name": "stdout",
     "output_type": "stream",
     "text": [
      "Please Enter the Amount: 22\n",
      "You have to pay 22\n"
     ]
    }
   ],
   "source": [
    "amount=int(input(\"Please Enter the Amount: \"))\n",
    "if amount>0 and amount<50:\n",
    "    disc=0\n",
    "elif amount>=50 and amount<100:\n",
    "    disc=amount*.10\n",
    "else:\n",
    "    disc=amount*.20\n",
    "print(f\"You have to pay {amount-disc}\")"
   ]
  },
  {
   "cell_type": "markdown",
   "id": "2b9c84af",
   "metadata": {},
   "source": [
    "14.\tMinimum Purchase Requirement\n",
    "If the total amount is less than $20, display a message: \"Minimum purchase of $20 is required.\" Otherwise, display the total amount.\n"
   ]
  },
  {
   "cell_type": "code",
   "execution_count": 24,
   "id": "efc62004",
   "metadata": {},
   "outputs": [
    {
     "name": "stdout",
     "output_type": "stream",
     "text": [
      "Please Enter the Amonut: 12\n",
      "Minimun Purchase of $20 is Required. \n"
     ]
    }
   ],
   "source": [
    "total_amount=int(input(\"Please Enter the Amonut: \"))\n",
    "if total_amount<20:\n",
    "    print(\"Minimun Purchase of $20 is Required. \")\n",
    "else:\n",
    "    print(f\"The Total Amount is {total_amount}\")"
   ]
  },
  {
   "cell_type": "markdown",
   "id": "bebb5c30",
   "metadata": {},
   "source": [
    "15.\tLoyalty Points\n",
    "If a customer is a loyal member (is_loyal = True), they earn double loyalty points for their purchase. Otherwise, they earn standard points.\n"
   ]
  },
  {
   "cell_type": "code",
   "execution_count": 3,
   "id": "3a47b1d5",
   "metadata": {},
   "outputs": [
    {
     "name": "stdout",
     "output_type": "stream",
     "text": [
      "Enter the purchase amount: $300\n",
      "Is the customer a loyal member? (Y/N): n\n",
      "Loyalty points earned: 300\n"
     ]
    }
   ],
   "source": [
    "\n",
    "standar_point_rate=1\n",
    "purchase_amount = int(input(\"Enter the purchase amount: $\"))\n",
    "is_loyal = input(\"Is the customer a loyal member? (Y/N): \").lower() \n",
    "if is_loyal==\"y\":\n",
    "    loyalty_points = purchase_amount * standar_point_rate*2\n",
    "else:\n",
    "    loyalty_points = purchase_amount * standar_point_rate\n",
    "\n",
    "    \n",
    "print(f\"Loyalty points earned: {loyalty_points}\")\n",
    "\n",
    "\n"
   ]
  },
  {
   "cell_type": "markdown",
   "id": "cd8c4456",
   "metadata": {},
   "source": [
    "# D-\tTravel and Tickets\n",
    "\n",
    "16.\tTravel Discount\n",
    "If a person is traveling more than 500 miles, offer a 20% discount on ticket price. Otherwise, charge the full amount.\n"
   ]
  },
  {
   "cell_type": "code",
   "execution_count": null,
   "id": "d5b954c9",
   "metadata": {},
   "outputs": [],
   "source": [
    "travel_distance=int(input(\"Enter the distance of travelling: \"))\n",
    "ticket_amount=int(input(\"Enter the Ticket Amount: \"))\n",
    "if travel_distance>500:\n",
    "    print(f\"Your)"
   ]
  },
  {
   "cell_type": "markdown",
   "id": "2095ad0f",
   "metadata": {},
   "source": [
    "17.\tChild or Senior Discount\n",
    "If a passenger is under 12 or over 60 years old, apply a 15% discount on the ticket price. Otherwise, charge the full price.\n"
   ]
  },
  {
   "cell_type": "code",
   "execution_count": 2,
   "id": "8ae0c025",
   "metadata": {},
   "outputs": [
    {
     "name": "stdout",
     "output_type": "stream",
     "text": [
      "Enter Your Age: 67\n",
      "You have to pay 6800.0\n"
     ]
    }
   ],
   "source": [
    "ticket_price=8000\n",
    "age=int(input(\"Enter Your Age: \"))\n",
    "if age<12 or age>60:\n",
    "    print(f\"You have to pay {ticket_price*.85}\")\n",
    "else:\n",
    "    print(f\"You have to pay {ticket_price}\")"
   ]
  },
  {
   "cell_type": "markdown",
   "id": "65203457",
   "metadata": {},
   "source": [
    "18.\tTicket Type Pricing\n",
    "If the ticket is for a weekend (is_weekend = True), add a 10% surcharge. Otherwise, charge the standard price.\n"
   ]
  },
  {
   "cell_type": "code",
   "execution_count": 7,
   "id": "97d63472",
   "metadata": {},
   "outputs": [
    {
     "name": "stdout",
     "output_type": "stream",
     "text": [
      "Is Your Ticket For Weekend: Y\n",
      "Your Ticket Price is 11000.0\n"
     ]
    }
   ],
   "source": [
    "ticket_price=10000\n",
    "ticket_detail=input(\"Is Your Ticket For Weekend: \").lower()\n",
    "if ticket_detail=='y':\n",
    "    surcharge=ticket_price*.10\n",
    "else:\n",
    "    surcharge=0\n",
    "print(f\"Your Ticket Price is {surcharge+ticket_price}\")"
   ]
  },
  {
   "cell_type": "markdown",
   "id": "3174d54d",
   "metadata": {},
   "source": [
    "19.\tBaggage Fee\n",
    "If the total baggage weight is over 20kg, charge $10 per extra kilogram. Otherwise, no extra fee.\n"
   ]
  },
  {
   "cell_type": "code",
   "execution_count": 20,
   "id": "b9bd95d3",
   "metadata": {},
   "outputs": [
    {
     "name": "stdout",
     "output_type": "stream",
     "text": [
      "Enter The Baggage Weight in kg: 12\n",
      "You have to pay Nothing\n"
     ]
    }
   ],
   "source": [
    "baggage_weight=int(input(\"Enter The Baggage Weight in kg: \"))\n",
    "if baggage_weight>20:\n",
    "    baggage_weight=baggage_weight-20\n",
    "    print(f\"You have to pay {baggage_weight*10}\")\n",
    "else:\n",
    "    baggage_weight=baggage_weight\n",
    "    print(f\"You have to pay Nothing\")"
   ]
  },
  {
   "cell_type": "markdown",
   "id": "e10f323b",
   "metadata": {},
   "source": [
    "20.\tEarly Bird Discount\n",
    "If a ticket is booked more than 30 days in advance, apply a 10% discount. Otherwise, charge the full price.\n"
   ]
  },
  {
   "cell_type": "code",
   "execution_count": 12,
   "id": "fcc3552b",
   "metadata": {},
   "outputs": [
    {
     "name": "stdout",
     "output_type": "stream",
     "text": [
      "Is Your Ticket Booked 30 days in Advance(Y/N): Y\n",
      "You have to pay 8100.0\n"
     ]
    }
   ],
   "source": [
    "ticket_price=9000\n",
    "ticket_detail=input(\"Is Your Ticket Booked 30 days in Advance(Y/N): \").lower()\n",
    "if ticket_detail=='y':\n",
    "    print(f\"You have to pay {ticket_price*.90}\")\n",
    "else:\n",
    "    print(f\"You have to pay {ticket_price}\")\n"
   ]
  },
  {
   "cell_type": "markdown",
   "id": "53a407cb",
   "metadata": {},
   "source": [
    "# E-\tGrades and Performance\n",
    "\n",
    "21.\tPass or Fail\n",
    "If a student scores 40 or more, print \"Pass\". Otherwise, print \"Fail\"."
   ]
  },
  {
   "cell_type": "code",
   "execution_count": 10,
   "id": "87f9bcbd",
   "metadata": {},
   "outputs": [
    {
     "name": "stdout",
     "output_type": "stream",
     "text": [
      "Enter Marks: 45\n",
      "Pass\n"
     ]
    }
   ],
   "source": [
    "marks=int(input(\"Enter Marks: \"))\n",
    "if marks>=40:\n",
    "    print(\"Pass\")\n",
    "else:\n",
    "    print(\"Fail\")"
   ]
  },
  {
   "cell_type": "markdown",
   "id": "1f0b3590",
   "metadata": {},
   "source": [
    "22.\tGrade Assignment\n",
    "Based on a student's score, assign grades:\n",
    "\t90 and above: \"A\"\n",
    "\t75–89: \"B\"\n",
    "\t50–74: \"C\"\n",
    "\tBelow 50: \"F\"\n"
   ]
  },
  {
   "cell_type": "code",
   "execution_count": 15,
   "id": "0dcc8d76",
   "metadata": {},
   "outputs": [
    {
     "name": "stdout",
     "output_type": "stream",
     "text": [
      "Please Enter Your scores: 67\n",
      "Your Grade is C\n"
     ]
    }
   ],
   "source": [
    "std_score=int(input(\"Please Enter Your scores: \"))\n",
    "if std_score>=90:\n",
    "    grade=\"A\"\n",
    "elif std_score<=89 and std_score>=75:\n",
    "    grade=\"B\"\n",
    "elif std_score<=74 and std_score>=50:\n",
    "    grade=\"C\"\n",
    "else:\n",
    "    grade=\"F\"\n",
    "print(f\"Your Grade is {grade}\")"
   ]
  },
  {
   "cell_type": "markdown",
   "id": "09936653",
   "metadata": {},
   "source": [
    "23.\tBonus Marks\n",
    "If a student completes all assignments, add 5 bonus marks to their score. Otherwise, no bonus marks.\n"
   ]
  },
  {
   "cell_type": "code",
   "execution_count": 1,
   "id": "9ee00417",
   "metadata": {},
   "outputs": [
    {
     "name": "stdout",
     "output_type": "stream",
     "text": [
      "Are your All Assignments Completed (Y/N) :y\n",
      "Your Scores Including Bonus Scores Are 75\n"
     ]
    }
   ],
   "source": [
    "scores=70\n",
    "assignment_detail=input(\"Are your All Assignments Completed (Y/N) :\").lower()\n",
    "if assignment_detail=='y':\n",
    "    print(f\"Your Scores Including Bonus Scores Are {scores+5}\")\n",
    "else:\n",
    "    print(f\"Your Scores without Bonus Scores Are {scores}\")\n",
    "\n",
    "    \n",
    "    "
   ]
  },
  {
   "cell_type": "markdown",
   "id": "9e0bae7a",
   "metadata": {},
   "source": [
    "24.\tAttendance Eligibility\n",
    "If a student's attendance is 75% or more, they are eligible to take the exam. Otherwise, they are not.\n"
   ]
  },
  {
   "cell_type": "code",
   "execution_count": 4,
   "id": "d19a78a1",
   "metadata": {},
   "outputs": [
    {
     "name": "stdout",
     "output_type": "stream",
     "text": [
      "Enter Your Percentage of Attendance: 102\n",
      "Please Enter Attendance Percentage between 0 - 100.\n"
     ]
    }
   ],
   "source": [
    "attendance=int(input(\"Enter Your Percentage of Attendance: \"))\n",
    "if attendance>100:\n",
    "    print(\"Please Enter Attendance Percentage between 0 - 100.\")\n",
    "else:\n",
    "    if attendance>=75:\n",
    "        print(\"You are Eligible for Exams.\")\n",
    "    else:\n",
    "        print(\"You are not Eligible for Exams.\")\n"
   ]
  },
  {
   "cell_type": "markdown",
   "id": "4bddb10f",
   "metadata": {},
   "source": [
    "25.\tScholarship Eligibility\n",
    "If a student's grade is \"A\" and their annual family income is below $30,000, they are eligible for a scholarship. Otherwise, they are not.\n"
   ]
  },
  {
   "cell_type": "code",
   "execution_count": 7,
   "id": "ce940049",
   "metadata": {},
   "outputs": [
    {
     "name": "stdout",
     "output_type": "stream",
     "text": [
      "Enter Your Grade: a\n",
      "Enter Your Annual Family Income: 23000\n",
      "You are Eligible for a scholarship.\n"
     ]
    }
   ],
   "source": [
    "grade=input(\"Enter Your Grade: \").lower()\n",
    "if grade=='a':\n",
    "    annual_family_income=int(input(\"Enter Your Annual Family Income: \"))\n",
    "    if annual_family_income<30000:\n",
    "        print(\"You are Eligible for a scholarship.\")\n",
    "    else:\n",
    "        print(\"Sorry You are Not eligible for scholarship due to income greater than 30000.\")\n",
    "else:\n",
    "    print(\"Sorry you are not eligible for scholarship because You don't have grade A\")"
   ]
  },
  {
   "cell_type": "code",
   "execution_count": null,
   "id": "f9ce79cb",
   "metadata": {},
   "outputs": [],
   "source": []
  }
 ],
 "metadata": {
  "kernelspec": {
   "display_name": "Python 3 (ipykernel)",
   "language": "python",
   "name": "python3"
  },
  "language_info": {
   "codemirror_mode": {
    "name": "ipython",
    "version": 3
   },
   "file_extension": ".py",
   "mimetype": "text/x-python",
   "name": "python",
   "nbconvert_exporter": "python",
   "pygments_lexer": "ipython3",
   "version": "3.11.5"
  }
 },
 "nbformat": 4,
 "nbformat_minor": 5
}
