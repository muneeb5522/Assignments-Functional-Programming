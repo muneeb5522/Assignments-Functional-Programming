{
 "cells": [
  {
   "cell_type": "markdown",
   "id": "cb5439f5",
   "metadata": {},
   "source": [
    "1. Write a program that accepts a string from user. Your program should count and display number of\n",
    "vowels in that string."
   ]
  },
  {
   "cell_type": "code",
   "execution_count": 3,
   "id": "44299014",
   "metadata": {},
   "outputs": [
    {
     "name": "stdout",
     "output_type": "stream",
     "text": [
      "Enter a String: ali\n",
      "The Number Of Vowels in a given String are 2\n"
     ]
    }
   ],
   "source": [
    "vowels='aeiouAEIOU'\n",
    "string=input(\"Enter a String: \")\n",
    "counter=0\n",
    "for a in string:\n",
    "    if a in vowels:\n",
    "        counter+=1\n",
    "    else:\n",
    "        continue\n",
    "print(f\"The Number Of Vowels in a given String are {counter}\")\n"
   ]
  },
  {
   "cell_type": "markdown",
   "id": "e2ec004c",
   "metadata": {},
   "source": [
    "2. Write a program that reads a string from keyboard and display:\n",
    "* The number of uppercase letters in the string\n",
    "* The number of lowercase letters in the string\n",
    "* The number of digits in the string\n",
    "* The number of whitespace characters in the string"
   ]
  },
  {
   "cell_type": "code",
   "execution_count": 4,
   "id": "122d446f",
   "metadata": {},
   "outputs": [
    {
     "name": "stdout",
     "output_type": "stream",
     "text": [
      "Enter a string: Allah is the Ebst Planner 123\n",
      "The number of uppercase letters: 3\n",
      "The number of lowercase letters: 18\n",
      "The number of digits: 3\n",
      "The number of whitespace characters: 5\n"
     ]
    }
   ],
   "source": [
    "user_string = input(\"Enter a string: \")\n",
    "uppercase_count = 0\n",
    "lowercase_count = 0\n",
    "digit_count = 0\n",
    "whitespace_count = 0\n",
    "for char in user_string:\n",
    "    if char.isupper():\n",
    "        uppercase_count+=1\n",
    "    elif char.islower():  \n",
    "        lowercase_count+=1\n",
    "    elif char.isdigit():  \n",
    "        digit_count+=1\n",
    "    elif char.isspace():  \n",
    "        whitespace_count+=1\n",
    "print(f\"The number of uppercase letters: {uppercase_count}\")\n",
    "print(f\"The number of lowercase letters: {lowercase_count}\")\n",
    "print(f\"The number of digits: {digit_count}\")\n",
    "print(f\"The number of whitespace characters: {whitespace_count}\")\n"
   ]
  },
  {
   "cell_type": "markdown",
   "id": "e2a39719",
   "metadata": {},
   "source": [
    "3. Write a Python program that accepts a string from user. Your program should create and display a\n",
    "new string where the first and last characters have been exchanged.\n",
    "For example if the user enters the string 'HELLO' then new string would be 'OELLH'"
   ]
  },
  {
   "cell_type": "code",
   "execution_count": 6,
   "id": "d53bc0c3",
   "metadata": {},
   "outputs": [
    {
     "name": "stdout",
     "output_type": "stream",
     "text": [
      "Enter a string: Asad\n",
      "The new string is: dsaA\n"
     ]
    }
   ],
   "source": [
    "user_string = input(\"Enter a string: \")\n",
    "if len(user_string) > 1:\n",
    "    new_string = user_string[-1] + user_string[1:-1] + user_string[0]\n",
    "else:\n",
    "    new_string = user_string\n",
    "print(\"The new string is:\", new_string)\n"
   ]
  },
  {
   "cell_type": "markdown",
   "id": "230ae764",
   "metadata": {},
   "source": [
    "4. Write a Python program that accepts a string from user. Your program should create a new string in\n",
    "reverse of first string and display it.\n",
    "For example if the user enters the string 'EXAM' then new string would be 'MAXE'"
   ]
  },
  {
   "cell_type": "code",
   "execution_count": 7,
   "id": "5e44b703",
   "metadata": {},
   "outputs": [
    {
     "name": "stdout",
     "output_type": "stream",
     "text": [
      "Enter a string: Muneeb\n",
      "Reverse String beenuM\n"
     ]
    }
   ],
   "source": [
    "user_string=input(\"Enter a string: \")\n",
    "new_string=user_string[::-1]\n",
    "print(\"Reverse String\",new_string)"
   ]
  },
  {
   "cell_type": "markdown",
   "id": "2c8cac33",
   "metadata": {},
   "source": [
    "5. Write a Python program that accepts a string from user. Your program should create a new string by\n",
    "shifting one position to left.\n",
    "For example if the user enters the string 'examination 2021' then new string would be 'xamination\n",
    "2021e'"
   ]
  },
  {
   "cell_type": "code",
   "execution_count": 8,
   "id": "c5cc17f9",
   "metadata": {},
   "outputs": [
    {
     "name": "stdout",
     "output_type": "stream",
     "text": [
      "Enter a string: Muhammad Muneeb Ur Rehman\n",
      "The new string is: uhammad Muneeb Ur RehmanM\n"
     ]
    }
   ],
   "source": [
    "user_string = input(\"Enter a string: \")\n",
    "if len(user_string) > 0:\n",
    "    new_string = user_string[1:] + user_string[0]\n",
    "else:\n",
    "    new_string = user_string\n",
    "print(\"The new string is:\", new_string)\n"
   ]
  },
  {
   "cell_type": "markdown",
   "id": "08c50304",
   "metadata": {},
   "source": [
    "6. Write a program that asks the user to input his name and print its initials. Assuming that the user\n",
    "always types first name, middle name and last name and does not include any unnecessary spaces.\n",
    "For example, if the user enters Ajay Kumar Garg the program should display A. K. G.\n",
    "Note:Don't use split() method"
   ]
  },
  {
   "cell_type": "code",
   "execution_count": 3,
   "id": "d4563d82",
   "metadata": {},
   "outputs": [
    {
     "name": "stdout",
     "output_type": "stream",
     "text": [
      "Enter your full name: Aaraiz Ali\n",
      "Initials: A.\n"
     ]
    }
   ],
   "source": [
    "name = input(\"Enter your full name: \")\n",
    "space_count = 0\n",
    "initials = \"\"\n",
    "for char in name:\n",
    "    if char == \" \":\n",
    "        space_count += 1\n",
    "        if space_count == 1 or space_count == 2: \n",
    "            initials += char + name[name.index(char) + 1] + \". \"\n",
    "    elif space_count == 2: \n",
    "        initials += name[name.index(char)] + \".\"\n",
    "        break\n",
    "\n",
    "print(\"Initials:\", initials.strip())  "
   ]
  },
  {
   "cell_type": "markdown",
   "id": "0aaef6b4",
   "metadata": {},
   "source": [
    "7. A palindrome is a string that reads the same backward as forward. For example, the words dad,\n",
    "madam and radar are all palindromes. Write a programs that determines whether the string is a\n",
    "palindrome.\n",
    "Note: do not use reverse() method"
   ]
  },
  {
   "cell_type": "code",
   "execution_count": 6,
   "id": "94b41901",
   "metadata": {},
   "outputs": [
    {
     "name": "stdout",
     "output_type": "stream",
     "text": [
      "Enter a string to check whether it is plaindrome or not: radar\n",
      "It is plaindrome.\n"
     ]
    }
   ],
   "source": [
    "string=input(\"Enter a string to check whether it is plaindrome or not: \")\n",
    "new_string=string[::-1]\n",
    "if new_string==string:\n",
    "    print(\"It is plaindrome.\")\n",
    "else:\n",
    "    print(\"It is not plaindrome.\")"
   ]
  },
  {
   "cell_type": "markdown",
   "id": "ca750ae7",
   "metadata": {},
   "source": [
    "8. Write a program that display following output:\n",
    "SHIFT\n",
    "HIFTS\n",
    "IFTSH\n",
    "FTSHI\n",
    "TSHIF\n",
    "SHIFT"
   ]
  },
  {
   "cell_type": "code",
   "execution_count": 16,
   "id": "4e65d98c",
   "metadata": {},
   "outputs": [
    {
     "name": "stdout",
     "output_type": "stream",
     "text": [
      "SHIFT\n",
      "HIFTS\n",
      "IFTSH\n",
      "FTSHI\n",
      "TSHIF\n"
     ]
    }
   ],
   "source": [
    "text = \"SHIFT\"\n",
    "for i in range(len(text)):\n",
    "    permutation = text[i:] + text[:i]\n",
    "    print(permutation)\n"
   ]
  },
  {
   "cell_type": "markdown",
   "id": "aa55722d",
   "metadata": {},
   "source": [
    "9. Write a program in python that accepts a string to setup a passwords. Your entered password must\n",
    "meet the following requirements:\n",
    "The password must be at least eight characters long.\n",
    "It must contain at least one uppercase letter.\n",
    "It must contain at least one lowercase letter.\n",
    "It must contain at least one numeric digit.\n",
    "Your program should should perform this validation.\n",
    "in python"
   ]
  },
  {
   "cell_type": "code",
   "execution_count": 18,
   "id": "d6299ac6",
   "metadata": {},
   "outputs": [
    {
     "name": "stdout",
     "output_type": "stream",
     "text": [
      "Enter your password: Mang5522\n",
      "Password is valid!\n"
     ]
    }
   ],
   "source": [
    "def validate_password(password):\n",
    "    if len(password) < 8:\n",
    "        return \"Password must be at least 8 characters long.\"\n",
    "    if not any(char.isupper() for char in password):\n",
    "        return \"Password must contain at least one uppercase letter.\"\n",
    "    if not any(char.islower() for char in password):\n",
    "        return \"Password must contain at least one lowercase letter.\"\n",
    "    if not any(char.isdigit() for char in password):\n",
    "        return \"Password must contain at least one numeric digit.\"\n",
    "    return \"Password is valid!\"\n",
    "user_password = input(\"Enter your password: \")\n",
    "result = validate_password(user_password)\n",
    "print(result)\n"
   ]
  },
  {
   "cell_type": "code",
   "execution_count": null,
   "id": "de6b20e7",
   "metadata": {},
   "outputs": [],
   "source": []
  }
 ],
 "metadata": {
  "kernelspec": {
   "display_name": "Python 3 (ipykernel)",
   "language": "python",
   "name": "python3"
  },
  "language_info": {
   "codemirror_mode": {
    "name": "ipython",
    "version": 3
   },
   "file_extension": ".py",
   "mimetype": "text/x-python",
   "name": "python",
   "nbconvert_exporter": "python",
   "pygments_lexer": "ipython3",
   "version": "3.11.5"
  }
 },
 "nbformat": 4,
 "nbformat_minor": 5
}
