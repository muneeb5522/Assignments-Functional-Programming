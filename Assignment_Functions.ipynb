{
 "cells": [
  {
   "cell_type": "markdown",
   "id": "a6a28ecc",
   "metadata": {},
   "source": [
    "1. Write a Python function to find the maximum of three numbers."
   ]
  },
  {
   "cell_type": "code",
   "execution_count": 1,
   "id": "f83b2ff0",
   "metadata": {},
   "outputs": [],
   "source": [
    "def max(a,b,c):\n",
    "    if a>b and a>c:\n",
    "        return a\n",
    "    elif b>a and b>c:\n",
    "        return b\n",
    "    else:\n",
    "        return c\n"
   ]
  },
  {
   "cell_type": "code",
   "execution_count": 2,
   "id": "8279d627",
   "metadata": {},
   "outputs": [
    {
     "data": {
      "text/plain": [
       "44"
      ]
     },
     "execution_count": 2,
     "metadata": {},
     "output_type": "execute_result"
    }
   ],
   "source": [
    "max(23,44,21)"
   ]
  },
  {
   "cell_type": "markdown",
   "id": "de887dac",
   "metadata": {},
   "source": [
    "2. Write a Python function to sum all the numbers in a list.\n",
    "Sample List : (8, 2, 3, 0, 7)\n",
    "Expected Output : 20"
   ]
  },
  {
   "cell_type": "code",
   "execution_count": 7,
   "id": "43fd7667",
   "metadata": {},
   "outputs": [],
   "source": [
    "def sum_list(numbers):\n",
    "    total = 0\n",
    "    for x in numbers:\n",
    "        total += x\n",
    "    return total"
   ]
  },
  {
   "cell_type": "code",
   "execution_count": 6,
   "id": "b60407ff",
   "metadata": {},
   "outputs": [
    {
     "data": {
      "text/plain": [
       "31"
      ]
     },
     "execution_count": 6,
     "metadata": {},
     "output_type": "execute_result"
    }
   ],
   "source": [
    "sum_list([12,2,1,4,5,4,3])"
   ]
  },
  {
   "cell_type": "markdown",
   "id": "1335d7a1",
   "metadata": {},
   "source": [
    "3. Write a Python function to multiply all the numbers in a list.\n",
    "Sample List : (8, 2, 3, -1, 7)\n",
    "Expected Output : -336"
   ]
  },
  {
   "cell_type": "code",
   "execution_count": 8,
   "id": "6e934638",
   "metadata": {},
   "outputs": [],
   "source": [
    "def multiply_list(numbers):\n",
    "    product = 1\n",
    "    for number in numbers:\n",
    "        product *= number\n",
    "    return product"
   ]
  },
  {
   "cell_type": "code",
   "execution_count": 11,
   "id": "7bff4609",
   "metadata": {},
   "outputs": [
    {
     "data": {
      "text/plain": [
       "40981248"
      ]
     },
     "execution_count": 11,
     "metadata": {},
     "output_type": "execute_result"
    }
   ],
   "source": [
    "multiply_list([2,32,22,33,2,21,21])"
   ]
  },
  {
   "cell_type": "markdown",
   "id": "c241d15a",
   "metadata": {},
   "source": [
    "4. Write a Python program to reverse a string.\n",
    "Sample String : \"1234abcd\"\n",
    "Expected Output : \"dcba4321\""
   ]
  },
  {
   "cell_type": "code",
   "execution_count": 1,
   "id": "5d62353a",
   "metadata": {},
   "outputs": [],
   "source": [
    "def reverse_string(string):\n",
    "    reverse_string=string[::-1]\n",
    "    return reverse_string\n"
   ]
  },
  {
   "cell_type": "code",
   "execution_count": 2,
   "id": "9d563420",
   "metadata": {},
   "outputs": [
    {
     "data": {
      "text/plain": [
       "'beenuM'"
      ]
     },
     "execution_count": 2,
     "metadata": {},
     "output_type": "execute_result"
    }
   ],
   "source": [
    "reverse_string(\"Muneeb\")"
   ]
  },
  {
   "cell_type": "markdown",
   "id": "7e5c5f95",
   "metadata": {},
   "source": [
    "5. Write a Python function to calculate the factorial of a number (a non-negative\n",
    "integer). The function accepts the number as an argument."
   ]
  },
  {
   "cell_type": "code",
   "execution_count": 3,
   "id": "6bf0d092",
   "metadata": {},
   "outputs": [],
   "source": [
    "def factorial(number):\n",
    "    fact=1\n",
    "    for i in range(1,number+1):\n",
    "        fact*=i\n",
    "    return fact"
   ]
  },
  {
   "cell_type": "code",
   "execution_count": 5,
   "id": "531a0c3e",
   "metadata": {},
   "outputs": [
    {
     "data": {
      "text/plain": [
       "120"
      ]
     },
     "execution_count": 5,
     "metadata": {},
     "output_type": "execute_result"
    }
   ],
   "source": [
    "factorial(5)"
   ]
  },
  {
   "cell_type": "markdown",
   "id": "e86d7547",
   "metadata": {},
   "source": [
    "6. Write a Python function to check whether a number falls within a given range."
   ]
  },
  {
   "cell_type": "code",
   "execution_count": 12,
   "id": "a4cb30de",
   "metadata": {},
   "outputs": [],
   "source": [
    "def number_in_range(lower_range,upper_range,number):\n",
    "    if number>=lower_range and number<=upper_range:\n",
    "        return \"f{number} Falls within a given Range.\"\n",
    "    else:\n",
    "        return number, \"does not falls within a given range.\"\n",
    "    "
   ]
  },
  {
   "cell_type": "code",
   "execution_count": 13,
   "id": "103d4e85",
   "metadata": {},
   "outputs": [
    {
     "data": {
      "text/plain": [
       "(21, 'does not falls within a given range.')"
      ]
     },
     "execution_count": 13,
     "metadata": {},
     "output_type": "execute_result"
    }
   ],
   "source": [
    "number_in_range(23,89,21)"
   ]
  },
  {
   "cell_type": "markdown",
   "id": "40113466",
   "metadata": {},
   "source": [
    "7. Write a Python function that accepts a string and counts the number of upper\n",
    "and lower case letters.\n",
    "Sample String : 'The quick Brow Fox'\n",
    "Expected Output :\n",
    "No. of Upper case characters : 3\n",
    "No. of Lower case Characters : 12"
   ]
  },
  {
   "cell_type": "code",
   "execution_count": 5,
   "id": "c490ff56",
   "metadata": {},
   "outputs": [],
   "source": [
    "def upper_lowercase_counter(string):\n",
    "    upper_count=0\n",
    "    lower_count=0\n",
    "    for i in range(len(string)):\n",
    "        if string.isupper():\n",
    "            upper_count+=1\n",
    "        else:\n",
    "            lower_count+=1\n",
    "    print(\"Upper Case Letters are\",upper_count)\n",
    "    print(\"Lower case Letters are\",lower_count)\n",
    "     "
   ]
  },
  {
   "cell_type": "code",
   "execution_count": 6,
   "id": "1e1e68ec",
   "metadata": {},
   "outputs": [
    {
     "name": "stdout",
     "output_type": "stream",
     "text": [
      "Upper Case Letters are 0\n",
      "Lower case Letters are 35\n"
     ]
    }
   ],
   "source": [
    "upper_lowercase_counter(\"My Name Is Muhammad MuneebUr Rehman\")"
   ]
  },
  {
   "cell_type": "markdown",
   "id": "26b7d579",
   "metadata": {},
   "source": [
    "8. Write a Python function that takes a list and returns a new list with distinct\n",
    "elements from the first list.\n",
    "Sample List : [1,2,3,3,3,3,4,5]\n",
    "Unique List : [1, 2, 3, 4, 5]"
   ]
  },
  {
   "cell_type": "code",
   "execution_count": 11,
   "id": "39fe0cf9",
   "metadata": {},
   "outputs": [],
   "source": [
    "def unique_list(list):\n",
    "    u_list=[]\n",
    "    for a in list:\n",
    "        if a in u_list:\n",
    "            continue\n",
    "        else:\n",
    "            u_list.append(a)\n",
    "    return u_list"
   ]
  },
  {
   "cell_type": "code",
   "execution_count": 12,
   "id": "88822bac",
   "metadata": {},
   "outputs": [
    {
     "data": {
      "text/plain": [
       "[1, 2, 3, 4, 5, 6, 56, 7, 55, 33]"
      ]
     },
     "execution_count": 12,
     "metadata": {},
     "output_type": "execute_result"
    }
   ],
   "source": [
    "unique_list([1,2,2,2,2,3,3,4,4,5,6,56,7,7,6,5,5,55,4,4,4,4,4,33,3,3,3])"
   ]
  },
  {
   "cell_type": "markdown",
   "id": "10f5d43d",
   "metadata": {},
   "source": [
    "9. Write a Python function that takes a number as a parameter and checks\n",
    "whether the number is prime or not.\n",
    "Note : A prime number (or a prime) is a natural number greater than 1 and that\n",
    "has no positive divisors other than 1 and itself."
   ]
  },
  {
   "cell_type": "code",
   "execution_count": null,
   "id": "452514f1",
   "metadata": {},
   "outputs": [],
   "source": [
    "def prime_no(number):\n",
    "    if no%2==0"
   ]
  },
  {
   "cell_type": "markdown",
   "id": "1679b800",
   "metadata": {},
   "source": [
    "10. Write a Python program to print the even numbers from a given list.\n",
    "Sample List : [1, 2, 3, 4, 5, 6, 7, 8, 9]\n",
    "Expected Result : [2, 4, 6, 8]"
   ]
  },
  {
   "cell_type": "code",
   "execution_count": 14,
   "id": "6c7ee19f",
   "metadata": {},
   "outputs": [],
   "source": [
    "def even_number(list):\n",
    "    new_list=[]\n",
    "    for a in list:\n",
    "        if a%2==0:\n",
    "            new_list.append(a)\n",
    "        else:\n",
    "            continue\n",
    "    return new_list       "
   ]
  },
  {
   "cell_type": "code",
   "execution_count": 15,
   "id": "c3b92226",
   "metadata": {},
   "outputs": [
    {
     "data": {
      "text/plain": [
       "[12, 334, 4, 6, 6, 76, 4, 34, 2]"
      ]
     },
     "execution_count": 15,
     "metadata": {},
     "output_type": "execute_result"
    }
   ],
   "source": [
    "even_number([12,334,323243,4545,4,5,5,6,7,6,76,7,655,3,4,34,2,3])"
   ]
  },
  {
   "cell_type": "markdown",
   "id": "821fcfbb",
   "metadata": {},
   "source": [
    "11. Write a Python function to check whether a number is \"Perfect\" or not.\n",
    "According to Wikipedia : In number theory, a perfect number is a positive integer\n",
    "that is equal to the sum of its proper positive divisors, that is, the sum of its\n",
    "positive divisors excluding the number itself (also known as its aliquot sum).\n",
    "Equivalently, a perfect number is a number that is half the sum of all of its\n",
    "positive divisors (including itself).\n",
    "Example : The first perfect number is 6, because 1, 2, and 3 are its proper positive\n",
    "divisors, and 1 + 2 + 3 = 6. Equivalently, the number 6 is equal to half the sum of\n",
    "all its positive divisors: ( 1 + 2 + 3 + 6 ) / 2 = 6. The next perfect number"
   ]
  },
  {
   "cell_type": "code",
   "execution_count": null,
   "id": "2e865d1f",
   "metadata": {},
   "outputs": [],
   "source": [
    "def is_perfect(n):\n",
    "    if not isinstance(n, int) or n <= 0:\n",
    "        return False\n",
    "\n",
    "    divisors_sum = 0\n",
    "    for i in range(1, n):\n",
    "        if n % i == 0:\n",
    "            divisors_sum += i\n",
    "\n",
    "    return divisors_sum == n\n",
    "\n",
    "while True:\n",
    "    try:\n",
    "        user_input = input(\"Enter a positive integer to check if it's a perfect number (or type 'exit'): \")\n",
    "        if user_input.lower() == 'exit':\n",
    "            break\n",
    "        num = int(user_input)\n",
    "        if num <= 0:\n",
    "            print(\"Please enter a positive integer.\")\n",
    "            continue\n",
    "\n",
    "        if is_perfect(num):\n",
    "            print(f\"{num} is a perfect number.\")\n",
    "        else:\n",
    "            print(f\"{num} is not a perfect number.\")\n",
    "\n",
    "    except ValueError:\n",
    "        print(\"Invalid input. Please enter a valid positive integer or 'exit'.\")"
   ]
  },
  {
   "cell_type": "markdown",
   "id": "0c98816e",
   "metadata": {},
   "source": [
    "12. Write a Python function that checks whether a passed string is a palindrome\n",
    "or not.\n",
    "Note: A palindrome is a word, phrase, or sequence that reads the same backward\n",
    "as forward, e.g., madam or nurses run."
   ]
  },
  {
   "cell_type": "code",
   "execution_count": 19,
   "id": "df3dee3b",
   "metadata": {},
   "outputs": [],
   "source": [
    "def plaindrome_checker(string):\n",
    "    new_string=string[::-1]\n",
    "    if new_string==string:\n",
    "        return 'plaindrome'\n",
    "    else:\n",
    "        return 'Not Plaindrome'"
   ]
  },
  {
   "cell_type": "code",
   "execution_count": 20,
   "id": "c0a3f54b",
   "metadata": {},
   "outputs": [
    {
     "data": {
      "text/plain": [
       "'Not Plaindrome'"
      ]
     },
     "execution_count": 20,
     "metadata": {},
     "output_type": "execute_result"
    }
   ],
   "source": [
    "plaindrome_checker('Ali')"
   ]
  },
  {
   "cell_type": "code",
   "execution_count": 21,
   "id": "9e888bc3",
   "metadata": {},
   "outputs": [
    {
     "data": {
      "text/plain": [
       "'plaindrome'"
      ]
     },
     "execution_count": 21,
     "metadata": {},
     "output_type": "execute_result"
    }
   ],
   "source": [
    "plaindrome_checker('madam')"
   ]
  },
  {
   "cell_type": "code",
   "execution_count": null,
   "id": "c7a793f8",
   "metadata": {},
   "outputs": [],
   "source": []
  }
 ],
 "metadata": {
  "kernelspec": {
   "display_name": "Python 3 (ipykernel)",
   "language": "python",
   "name": "python3"
  },
  "language_info": {
   "codemirror_mode": {
    "name": "ipython",
    "version": 3
   },
   "file_extension": ".py",
   "mimetype": "text/x-python",
   "name": "python",
   "nbconvert_exporter": "python",
   "pygments_lexer": "ipython3",
   "version": "3.11.5"
  }
 },
 "nbformat": 4,
 "nbformat_minor": 5
}
