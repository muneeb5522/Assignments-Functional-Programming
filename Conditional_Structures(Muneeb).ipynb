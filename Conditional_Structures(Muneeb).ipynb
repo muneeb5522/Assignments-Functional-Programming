{
 "cells": [
  {
   "cell_type": "markdown",
   "id": "1e57852e",
   "metadata": {},
   "source": [
    " 1. Write a program that prompts the user to input a number and display if the number is even or odd."
   ]
  },
  {
   "cell_type": "code",
   "execution_count": 3,
   "id": "e96263df",
   "metadata": {},
   "outputs": [
    {
     "name": "stdout",
     "output_type": "stream",
     "text": [
      "Enter a Number to check whether  number is even or odd: 22\n",
      "22 is Even Number.\n"
     ]
    }
   ],
   "source": [
    "n=int(input(\"Enter a Number to check whether  number is even or odd: \"))\n",
    "if n%2==0:\n",
    "    print(n,\"is Even Number.\")\n",
    "else:\n",
    "    print(n,\"is Odd Number.\")"
   ]
  },
  {
   "cell_type": "markdown",
   "id": "7a8db017",
   "metadata": {},
   "source": [
    "2. Write a Python program that takes an age as input and determines whether a person\n",
    "is eligible to vote. If the age is 18 or above, print \"You are eligible to vote.\" Otherwise,\n",
    "print \"You are not eligible to vote yet.\"."
   ]
  },
  {
   "cell_type": "code",
   "execution_count": 3,
   "id": "4f9d0eb8",
   "metadata": {},
   "outputs": [
    {
     "name": "stdout",
     "output_type": "stream",
     "text": [
      "Enter Your Age: 19\n",
      "You are eligible to vote.\n"
     ]
    }
   ],
   "source": [
    "age=int(input(\"Enter Your Age: \"))\n",
    "if age>18:\n",
    "    print(\"You are eligible to vote.\")\n",
    "else:\n",
    "    print(\"You are not eligible to vote.\")\n",
    "              "
   ]
  },
  {
   "cell_type": "markdown",
   "id": "96d4e63c",
   "metadata": {},
   "source": [
    "3. Write a program that prompts the user to input two integers and outputs the largest."
   ]
  },
  {
   "cell_type": "code",
   "execution_count": 5,
   "id": "8afb3fea",
   "metadata": {},
   "outputs": [
    {
     "name": "stdout",
     "output_type": "stream",
     "text": [
      "Enter First Number: 3\n",
      "Enter Second Number: 3\n",
      "Both Numbers are Equal.\n"
     ]
    }
   ],
   "source": [
    "n1=int(input(\"Enter First Number: \"))\n",
    "n2=int(input(\"Enter Second Number: \"))\n",
    "if n1>n2:\n",
    "    print(n1,\"is largest.\")\n",
    "elif n2>n1:\n",
    "    print(n2,\"is largest.\")\n",
    "else:\n",
    "    print(\"Both Numbers are Equal.\")"
   ]
  },
  {
   "cell_type": "markdown",
   "id": "d88fa99e",
   "metadata": {},
   "source": [
    "4. Write a program that prompts the user to enter a number and determines whether it\n",
    "is positive, negative, or zero. The program should print \"Positive\" if the number is\n",
    "greater than 0, \"Negative\" if the number is less than 0, and \"Zero\" if the number is 0."
   ]
  },
  {
   "cell_type": "code",
   "execution_count": 7,
   "id": "fba35738",
   "metadata": {},
   "outputs": [
    {
     "name": "stdout",
     "output_type": "stream",
     "text": [
      "Enter a Number. 0\n",
      "You entered Zero.\n"
     ]
    }
   ],
   "source": [
    "no=int(input(\"Enter a Number. \"))\n",
    "if no>0:\n",
    "    print(\"You entered a Positive integer.\")\n",
    "elif no<0:\n",
    "    print(\"You entered a Negative integer.\")\n",
    "else:\n",
    "    print(\"You entered Zero.\")"
   ]
  },
  {
   "cell_type": "markdown",
   "id": "1118134f",
   "metadata": {},
   "source": [
    "5. Write a program that prompts the user to enter their age and prints the\n",
    "corresponding age group. The program should use the following age groups:\n",
    "0-12: Child\n",
    "13-19: Teenager\n",
    "20-59: Adult\n",
    "60 and above: Senior Citizen"
   ]
  },
  {
   "cell_type": "code",
   "execution_count": 12,
   "id": "e3330472",
   "metadata": {},
   "outputs": [
    {
     "name": "stdout",
     "output_type": "stream",
     "text": [
      "Enter Your Age: 60\n",
      "Senior Citizen.\n"
     ]
    }
   ],
   "source": [
    "age =int(input(\"Enter Your Age: \"))\n",
    "if age>0 and age<=12:\n",
    "    print(\"Child\")\n",
    "elif age>=13 and age <=19:\n",
    "    print(\"Teenager\")\n",
    "elif age>=20 and age<=59:\n",
    "    print(\"Adult\")\n",
    "else:\n",
    "    print(\"Senior Citizen.\")"
   ]
  },
  {
   "cell_type": "markdown",
   "id": "2a5cf0c5",
   "metadata": {},
   "source": [
    "6. Write a program that prompts the user to input a number from 1 to 7. The program\n",
    "should display the corresponding day for the given number. For example, if the user\n",
    "types 1, the output should be Sunday. If the user types 7, the output should be\n",
    "Saturday. If the number is not between 1 to 7 user should get error message as shown\n",
    "in sample output."
   ]
  },
  {
   "cell_type": "code",
   "execution_count": 4,
   "id": "d521b782",
   "metadata": {},
   "outputs": [
    {
     "name": "stdout",
     "output_type": "stream",
     "text": [
      "Enter a number from 1 to 7: 2\n",
      "Monday\n"
     ]
    }
   ],
   "source": [
    "n=int(input(\"Enter a number from 1 to 7: \"))\n",
    "if n==1:\n",
    "    print(\"Sunday\")\n",
    "elif n==2:\n",
    "    print(\"Monday\")\n",
    "elif n==3:\n",
    "    print(\"Tuesday\")\n",
    "elif n==4:\n",
    "    print(\"Wednesday\")\n",
    "elif n==5:\n",
    "    print(\"Thursday\")\n",
    "elif n==6:\n",
    "    print(\"Friday\")\n",
    "else:\n",
    "    print(\"Saturday\")"
   ]
  },
  {
   "cell_type": "markdown",
   "id": "b39c4833",
   "metadata": {},
   "source": [
    "7. Write a program that prompts the user to enter their weight (in kilograms) and height\n",
    "(in meters). The program should calculate the Body Mass Index (BMI) using the formula:\n",
    "BMI = weight / (height * height). The program should then classify the BMI into one of\n",
    "the following categories:\n",
    "less than 18.5 - Underweight\n",
    "BMI between 18.5 and 24.9 - Normal weight\n",
    "BMI between 25 and 29.9 - Overweight\n",
    "BMI 30 or greater - Obesity"
   ]
  },
  {
   "cell_type": "code",
   "execution_count": 9,
   "id": "4358b1ca",
   "metadata": {},
   "outputs": [
    {
     "name": "stdout",
     "output_type": "stream",
     "text": [
      "Enter Weight in kilograms: 70\n",
      "Enter Height in Meters: 1.8\n",
      "Your Body Mass Weight is 21.604938271604937\n",
      "Normal Weight\n"
     ]
    }
   ],
   "source": [
    "weight=int(input(\"Enter Weight in kilograms: \"))\n",
    "height=float(input(\"Enter Height in Meters: \"))\n",
    "bmi=weight/(height*height)\n",
    "print(\"Your Body Mass Weight is\",bmi)\n",
    "if bmi<18.5:\n",
    "    print(\"Underweight\")\n",
    "elif bmi>=18.5 and bmi<=24.9:\n",
    "    print(\"Normal Weight\")\n",
    "elif bmi>=25 and bmi<=29.9:\n",
    "    print(\"OverWeight\")\n",
    "else:\n",
    "    print(\"Obesity\")"
   ]
  },
  {
   "cell_type": "markdown",
   "id": "eb902bb5",
   "metadata": {},
   "source": [
    "8. The marks obtained by a student in 3 different subjects are input by the user. Your\n",
    "program should calculate the average of subjects and display the grade. The student\n",
    "gets a grade as per the following rules:\n",
    "Average Grade\n",
    "90-100 A\n",
    "80-89 B\n",
    "70-79 C\n",
    "60-69 D\n",
    "0-59 F"
   ]
  },
  {
   "cell_type": "code",
   "execution_count": 10,
   "id": "3bd0eb87",
   "metadata": {},
   "outputs": [
    {
     "name": "stdout",
     "output_type": "stream",
     "text": [
      "Enter Marks of Subject 1: 89\n",
      "Enter Marks of subject 2: 78\n",
      "Enter Marks of subject 3: 90\n",
      "Your Grade is B\n"
     ]
    }
   ],
   "source": [
    "s1=int(input(\"Enter Marks of Subject 1: \"))\n",
    "s2=int(input(\"Enter Marks of subject 2: \"))\n",
    "s3=int(input(\"Enter Marks of subject 3: \"))\n",
    "avg=(s1+s2+s3)/3\n",
    "if avg>=90 and avg<=100:\n",
    "    grade='A'\n",
    "elif avg>=80 and avg<=89:\n",
    "    grade='B'\n",
    "elif avg>=70 and avg<=79:\n",
    "    grade='C'\n",
    "elif avg>=60 and avg<=69:\n",
    "    grade='D'\n",
    "else:\n",
    "    grade='F'\n",
    "print(\"Your Grade is\",grade)"
   ]
  },
  {
   "cell_type": "markdown",
   "id": "b8f502e3",
   "metadata": {},
   "source": [
    "9. The roots of the quadratic equation ax2 + bx + c = 0, a ≠ 0 are given by the following\n",
    "formula:\n",
    "In this formula, the term b2 - 4ac is called the discriminant. If b2 - 4ac = 0, then the\n",
    "equation has two equal roots.\n",
    "If b2 - 4ac > 0, the equation has two real roots. If b2 - 4ac < 0, the equation has two\n",
    "complex roots."
   ]
  },
  {
   "cell_type": "code",
   "execution_count": 2,
   "id": "6891fd23",
   "metadata": {},
   "outputs": [
    {
     "data": {
      "text/plain": [
       "(1.6200554372175822e-16+2.6457513110645907j)"
      ]
     },
     "execution_count": 2,
     "metadata": {},
     "output_type": "execute_result"
    }
   ],
   "source": [
    "def discriminent(a,b,c):\n",
    "    disc=((b**2)-4*a*c)**0.5\n",
    "    return disc\n",
    "discriminent(2,1,1)"
   ]
  },
  {
   "cell_type": "markdown",
   "id": "176b7399",
   "metadata": {},
   "source": [
    "10. Write a program that prompts the user to enter three numbers and sorts them in\n",
    "ascending order. The program should print the sorted numbers."
   ]
  },
  {
   "cell_type": "code",
   "execution_count": 1,
   "id": "7b8646d8",
   "metadata": {},
   "outputs": [
    {
     "name": "stdout",
     "output_type": "stream",
     "text": [
      "Enter the first number: 56\n",
      "Enter the second number: 78\n",
      "Enter the third number: 12\n",
      "Sorted order: 12.0, 56.0, 78.0\n"
     ]
    }
   ],
   "source": [
    "def sort_numbers():\n",
    "    num1 = float(input(\"Enter the first number: \"))\n",
    "    num2 = float(input(\"Enter the second number: \"))\n",
    "    num3 = float(input(\"Enter the third number: \"))\n",
    "    if num1 <= num2 and num1 <= num3:\n",
    "        if num2 <= num3:\n",
    "            print(f\"Sorted order: {num1}, {num2}, {num3}\")\n",
    "        else:\n",
    "            print(f\"Sorted order: {num1}, {num3}, {num2}\")\n",
    "    elif num2 <= num1 and num2 <= num3:\n",
    "        if num1 <= num3:\n",
    "            print(f\"Sorted order: {num2}, {num1}, {num3}\")\n",
    "        else:\n",
    "            print(f\"Sorted order: {num2}, {num3}, {num1}\")\n",
    "    else:  \n",
    "        if num1 <= num2:\n",
    "            print(f\"Sorted order: {num3}, {num1}, {num2}\")\n",
    "        else:\n",
    "            print(f\"Sorted order: {num3}, {num2}, {num1}\")\n",
    "sort_numbers()\n"
   ]
  },
  {
   "cell_type": "markdown",
   "id": "3ca1e4d4",
   "metadata": {},
   "source": [
    "11. Write a program that prompts the user to input three integers and outputs the\n",
    "largest."
   ]
  },
  {
   "cell_type": "code",
   "execution_count": 3,
   "id": "48a97ed3",
   "metadata": {},
   "outputs": [
    {
     "name": "stdout",
     "output_type": "stream",
     "text": [
      "Enter number: 12\n",
      "Enter number: 34\n",
      "Enter number: 98\n",
      "98 is largest.\n"
     ]
    }
   ],
   "source": [
    "n1=int(input(\"Enter number: \"))\n",
    "n2=int(input(\"Enter number: \"))\n",
    "n3=int(input(\"Enter number: \"))\n",
    "if n1>n2 and n1>n3:\n",
    "    print(n1,\"is largest.\")\n",
    "elif n2>n1 and n2>n3:\n",
    "    print(n2,\"is largest.\")\n",
    "else:\n",
    "    print(n3,\"is largest.\")"
   ]
  },
  {
   "cell_type": "markdown",
   "id": "b5bd7b9f",
   "metadata": {},
   "source": [
    "12. Write a program that prompts the user to input a character and determine the\n",
    "character is vowel or consonant."
   ]
  },
  {
   "cell_type": "code",
   "execution_count": 9,
   "id": "9e5ded22",
   "metadata": {},
   "outputs": [
    {
     "name": "stdout",
     "output_type": "stream",
     "text": [
      "Enter a Character. a\n",
      "It is a Vowel.\n"
     ]
    }
   ],
   "source": [
    "vowels='aeiou'\n",
    "char=input(\"Enter a Character. \")\n",
    "if char in vowels:\n",
    "    print(\"It is a Vowel.\")\n",
    "else:\n",
    "    print(\"It is a consonant\")"
   ]
  },
  {
   "cell_type": "markdown",
   "id": "06ffb260",
   "metadata": {},
   "source": [
    "13. Write a program that prompts the user to input a year and determine whether the\n",
    "year is a leap year or not.\n",
    "Leap Years are any year that can be evenly divided by 4. A year that is evenly divisible by\n",
    "100 is a leap year only if it is also evenly divisible by 400. Example:\n",
    "1992 Leap Year\n",
    "2000 Leap Year\n",
    "1900 NOT a Leap Year\n",
    "1995 NOT a Leap Year"
   ]
  },
  {
   "cell_type": "code",
   "execution_count": 18,
   "id": "07707931",
   "metadata": {},
   "outputs": [
    {
     "name": "stdout",
     "output_type": "stream",
     "text": [
      "Enter a year: 2000\n",
      "It is a leap Year.\n"
     ]
    }
   ],
   "source": [
    "year=int(input(\"Enter a year: \"))\n",
    "if year%100==0 and year%400==0:\n",
    "    print(\"It is a leap Year.\")\n",
    "else:\n",
    "    print(\"It is not a leap year.\")"
   ]
  },
  {
   "cell_type": "markdown",
   "id": "e381723e",
   "metadata": {},
   "source": [
    "14. Write a program that prompts the user to input number of calls and calculate the\n",
    "monthly telephone bills as per the following rule:\n",
    "Minimum Rs. 200 for up to 100 calls.\n",
    "Plus Rs. 0.60 per call for next 50 calls.\n",
    "Plus Rs. 0.50 per call for next 50 calls.\n",
    "Plus Rs. 0.40 per call for any call beyond 200 calls."
   ]
  },
  {
   "cell_type": "code",
   "execution_count": 1,
   "id": "efff288e",
   "metadata": {},
   "outputs": [
    {
     "name": "stdout",
     "output_type": "stream",
     "text": [
      "Enter the number of calls: 56\n",
      "Your monthly bill is: 200\n"
     ]
    }
   ],
   "source": [
    "def calculate_bill(calls):\n",
    "    bill = 200\n",
    "    if calls > 100:\n",
    "        extra_calls = calls - 100\n",
    "        if extra_calls <= 50:\n",
    "            bill += extra_calls * 0.60\n",
    "        elif extra_calls <= 100:\n",
    "            bill += 50 * 0.60 + (extra_calls - 50) * 0.50\n",
    "        else:\n",
    "            bill += 50 * 0.60 + 50 * 0.50 + (extra_calls - 100) * 0.40\n",
    "\n",
    "    return bill\n",
    "\n",
    "calls = int(input(\"Enter the number of calls: \"))\n",
    "monthly_bill = calculate_bill(calls)\n",
    "print(\"Your monthly bill is:\", monthly_bill)"
   ]
  },
  {
   "cell_type": "code",
   "execution_count": null,
   "id": "c8eb09ac",
   "metadata": {},
   "outputs": [],
   "source": []
  },
  {
   "cell_type": "code",
   "execution_count": null,
   "id": "a09f0729",
   "metadata": {},
   "outputs": [],
   "source": []
  }
 ],
 "metadata": {
  "kernelspec": {
   "display_name": "Python 3 (ipykernel)",
   "language": "python",
   "name": "python3"
  },
  "language_info": {
   "codemirror_mode": {
    "name": "ipython",
    "version": 3
   },
   "file_extension": ".py",
   "mimetype": "text/x-python",
   "name": "python",
   "nbconvert_exporter": "python",
   "pygments_lexer": "ipython3",
   "version": "3.11.5"
  }
 },
 "nbformat": 4,
 "nbformat_minor": 5
}
