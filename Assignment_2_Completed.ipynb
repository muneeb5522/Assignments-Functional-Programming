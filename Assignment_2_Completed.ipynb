{
 "cells": [
  {
   "cell_type": "markdown",
   "id": "429e9e43-0d3d-413c-8673-7b08f57b7423",
   "metadata": {},
   "source": [
    "# 1) Area of a Rectangle: \n",
    "Write a Python program to calculate the area of a rectangle. Use the formula: \n",
    "�\n",
    "�𝒓𝒆𝒂 = 𝒍𝒆𝒏𝒈𝒕𝒉 × 𝒘𝒊𝒅𝒕𝒉 \n",
    "Take length and width as inputs from the user. "
   ]
  },
  {
   "cell_type": "code",
   "execution_count": 2,
   "id": "155271f1-2924-403f-b7f5-14463188e119",
   "metadata": {},
   "outputs": [
    {
     "name": "stdin",
     "output_type": "stream",
     "text": [
      "Enter Length of Rectangle:  5\n",
      "Enter width of Rectangle:  5\n"
     ]
    },
    {
     "name": "stdout",
     "output_type": "stream",
     "text": [
      "Area of Rectangle is 25\n"
     ]
    }
   ],
   "source": [
    "length=int(input(\"Enter Length of Rectangle: \"))\n",
    "width=int(input(\"Enter width of Rectangle: \"))\n",
    "area=length*width\n",
    "print(f\"Area of Rectangle is {area}\")"
   ]
  },
  {
   "cell_type": "markdown",
   "id": "510de2f2-2452-488e-8e50-cf568ea6079e",
   "metadata": {},
   "source": [
    "# 2) Circumference of a Circle: \n",
    "Write a Python program to calculate the circumference of a circle. Use the formula: \n",
    "�\n",
    "�𝒊𝒓𝒄𝒖𝒎𝒇𝒆𝒓𝒆𝒏𝒄𝒆 = 𝟐𝝅𝒓 \n",
    "Take the radius r as input from the user. "
   ]
  },
  {
   "cell_type": "code",
   "execution_count": 12,
   "id": "c1e36174-ecb7-454e-8205-23e9466f56df",
   "metadata": {},
   "outputs": [
    {
     "name": "stdin",
     "output_type": "stream",
     "text": [
      "Enter the radius of circle:  56\n"
     ]
    },
    {
     "name": "stdout",
     "output_type": "stream",
     "text": [
      "Circumference of a Circle is 351.85808\n"
     ]
    }
   ],
   "source": [
    "radius=float(input(\"Enter the radius of circle: \"))\n",
    "circumference=2*3.14159*radius\n",
    "print(f\"Circumference of a Circle is { circumference}\")"
   ]
  },
  {
   "cell_type": "markdown",
   "id": "d4d6e25e-d969-4a32-a54d-e35d0b375530",
   "metadata": {},
   "source": [
    "# 3) Simple Interest: \n",
    "Write a Python program to calculate the simple interest. Use the formula: \n",
    "�\n",
    "�𝒊𝒎𝒑𝒍𝒆 𝑰𝒏𝒕𝒆𝒓𝒆𝒔𝒕 = 𝑷𝒓𝒊𝒏𝒄𝒊𝒑𝒂𝒍 × 𝑹𝒂𝒕𝒆 × 𝑻𝒊𝒎𝒆  \n",
    "Take Principal, Rate, and Time as inputs from the user. "
   ]
  },
  {
   "cell_type": "code",
   "execution_count": 13,
   "id": "ff677c98-d03a-4af6-95f1-6430e4052fab",
   "metadata": {},
   "outputs": [
    {
     "name": "stdin",
     "output_type": "stream",
     "text": [
      "Enter The Principal:  56000\n",
      "Enter Rate:  89879\n",
      "Enter Time:  12\n"
     ]
    },
    {
     "name": "stdout",
     "output_type": "stream",
     "text": [
      "Simple Interest is 60398688000\n"
     ]
    }
   ],
   "source": [
    "principal=int(input(\"Enter The Principal: \"))\n",
    "rate=int(input(\"Enter Rate: \"))\n",
    "time=int(input(\"Enter Time: \"))\n",
    "simple_interest=principal*rate*time\n",
    "print(f\"Simple Interest is {simple_interest}\")"
   ]
  },
  {
   "cell_type": "markdown",
   "id": "f57ab595-13e3-49f3-a2fa-368621b3ab61",
   "metadata": {},
   "source": [
    "# 4) Speed of an Object: \n",
    "Write a Python program to calculate the speed of an object. Use the formula:  \n",
    "�\n",
    "�𝒑𝒆𝒆𝒅     =      𝑫𝒊𝒔𝒕𝒂𝒏𝒄𝒆 /    𝑻𝒊𝒎𝒆  \n",
    "Take Distance and Time as inputs from the user. "
   ]
  },
  {
   "cell_type": "code",
   "execution_count": 29,
   "id": "c10889d8-427f-4a91-acba-7f537d6caaf1",
   "metadata": {},
   "outputs": [
    {
     "name": "stdin",
     "output_type": "stream",
     "text": [
      "Enter Distance 12\n",
      "Enter Time  0.5\n"
     ]
    },
    {
     "name": "stdout",
     "output_type": "stream",
     "text": [
      "speed is 24.0\n"
     ]
    }
   ],
   "source": [
    "\n",
    "Distance=int(input(\"Enter Distance\"))\n",
    "Time=float(input(\"Enter Time \"))\n",
    "speed=Distance/Time\n",
    "print(f\"speed is {speed}\")"
   ]
  },
  {
   "cell_type": "markdown",
   "id": "dd336978-9c35-4f12-9d23-52fb45e14053",
   "metadata": {},
   "source": [
    "# 5) BMI Calculator: \n",
    "Write a Python program to calculate the Body Mass Index (BMI). Use the formula:  \n",
    "BMI = \n",
    "(\n",
    " )\n",
    " (\n",
    " ).\n",
    " Take Weight (in kilograms) and Height (in meters) as inputs from the user."
   ]
  },
  {
   "cell_type": "code",
   "execution_count": 31,
   "id": "19ce1f95-359b-47a4-86dd-b429dc055668",
   "metadata": {},
   "outputs": [
    {
     "name": "stdin",
     "output_type": "stream",
     "text": [
      "Enter Weight in kg:  100\n",
      "Enter Height in Meteres:  2\n"
     ]
    },
    {
     "name": "stdout",
     "output_type": "stream",
     "text": [
      "Body Mass Index (BMI) is 25.0\n"
     ]
    }
   ],
   "source": [
    "weight=int(input(\"Enter Weight in kg: \"))\n",
    "height=int(input(\"Enter Height in Meteres: \"))\n",
    "height=height**2\n",
    "body_mass_index=weight/height\n",
    "print(f\"Body Mass Index (BMI) is {body_mass_index}\")"
   ]
  },
  {
   "cell_type": "markdown",
   "id": "55264c0b-1438-4735-8515-5393371bb162",
   "metadata": {},
   "source": [
    "# 6) Force Using Newton's Second Law: \n",
    "Write a Python program to calculate the force on an object. Use the formula: \n",
    " \n",
    "Take m (mass in kilograms) and a (acceleration in meters/second²) as inputs from the \n",
    "user."
   ]
  },
  {
   "cell_type": "code",
   "execution_count": null,
   "id": "21d9a640-063b-4503-91d2-cf94e058258a",
   "metadata": {},
   "outputs": [],
   "source": []
  },
  {
   "cell_type": "code",
   "execution_count": null,
   "id": "bcaf6251-a15a-4e1c-b67f-00941b0a180f",
   "metadata": {},
   "outputs": [],
   "source": []
  }
 ],
 "metadata": {
  "kernelspec": {
   "display_name": "Python 3 (ipykernel)",
   "language": "python",
   "name": "python3"
  },
  "language_info": {
   "codemirror_mode": {
    "name": "ipython",
    "version": 3
   },
   "file_extension": ".py",
   "mimetype": "text/x-python",
   "name": "python",
   "nbconvert_exporter": "python",
   "pygments_lexer": "ipython3",
   "version": "3.11.5"
  }
 },
 "nbformat": 4,
 "nbformat_minor": 5
}
