{
 "cells": [
  {
   "cell_type": "markdown",
   "id": "be1807b1",
   "metadata": {},
   "source": [
    "Task1:\n",
    "You need to write a function in python that return all such numbers which are\n",
    "divisible by 7 but are not a multiple of 5, between 2000 and 3200 (both included).\n",
    "Return the obtained numbers in a comma-separated sequence on a single line."
   ]
  },
  {
   "cell_type": "code",
   "execution_count": 6,
   "id": "0580d8ce",
   "metadata": {},
   "outputs": [],
   "source": [
    "def number_checker():\n",
    "    for number in range(2000,3200+1):\n",
    "        if number%7==0 and number%5==0:\n",
    "            return number\n",
    "        else:\n",
    "            continue"
   ]
  },
  {
   "cell_type": "code",
   "execution_count": 7,
   "id": "4e9055b4",
   "metadata": {},
   "outputs": [
    {
     "data": {
      "text/plain": [
       "2030"
      ]
     },
     "execution_count": 7,
     "metadata": {},
     "output_type": "execute_result"
    }
   ],
   "source": [
    "number_checker()"
   ]
  },
  {
   "cell_type": "markdown",
   "id": "93de4443",
   "metadata": {},
   "source": [
    "Task2:\n",
    "You need code a function that calculates and returns the value according to the\n",
    "given formula:\n",
    "P = Square root of [(2 * A * B)/C]\n",
    "Following are the fixed values of A and B:\n",
    "A is 50. B is 30.\n",
    "The values of the literal C should be taken as console input to your program in a\n",
    "comma-separated sequence.\n",
    "Example\n",
    "Let us assume the following comma separated input sequence is given to the\n",
    "program:\n",
    "100,150,180\n",
    "The output of the program should be:\n",
    "18,22,24"
   ]
  },
  {
   "cell_type": "markdown",
   "id": "19799aa2",
   "metadata": {},
   "source": [
    "Task4:\n",
    "You need to write a program that takes sequence of lines as input and prints the\n",
    "lines after making all characters in the sentence capitalized.\n",
    "Suppose the following input is supplied to the program:\n",
    "Hello world\n",
    "Practice makes perfect\n",
    "Then, the output should be:\n",
    "HELLO WORLD\n",
    "PRACTICE MAKES PERFECT"
   ]
  },
  {
   "cell_type": "code",
   "execution_count": 8,
   "id": "dd4fc832",
   "metadata": {},
   "outputs": [],
   "source": [
    "def capital_checker(string):\n",
    "    capital_string=string.upper()\n",
    "    return capital_string"
   ]
  },
  {
   "cell_type": "code",
   "execution_count": 9,
   "id": "82db4994",
   "metadata": {},
   "outputs": [
    {
     "data": {
      "text/plain": [
       "'MY NAME IS MUHAMMAD MUNEEB UR REHMAN'"
      ]
     },
     "execution_count": 9,
     "metadata": {},
     "output_type": "execute_result"
    }
   ],
   "source": [
    "capital_checker(\"my name is muhammad muneeb ur rehman\")"
   ]
  },
  {
   "cell_type": "markdown",
   "id": "e4cf8447",
   "metadata": {},
   "source": [
    "Task5:\n",
    "You need to write a function that counts the number of vowels in a given\n",
    "sentence as input from console.\n",
    "Suppose the following input is supplied to the program:\n",
    "Hello world\n",
    "Practice makes perfect\n",
    "Then, the output should be:\n",
    "a appeared 2 times\n",
    "e appeared 5 times\n",
    "i appeared 1 time\n",
    "o appeared 2 times\n",
    "u appeared 0 time\n",
    "PRACTICE MAKES PERFECT"
   ]
  },
  {
   "cell_type": "code",
   "execution_count": 1,
   "id": "f56a2976",
   "metadata": {},
   "outputs": [
    {
     "name": "stdout",
     "output_type": "stream",
     "text": [
      "Enter a sentence (or type 'exit'): muneeb\n",
      "a appeared 0 times\n",
      "e appeared 2 times\n",
      "i appeared 0 times\n",
      "o appeared 0 times\n",
      "u appeared 1 time\n",
      "MUNEEB\n",
      "Enter a sentence (or type 'exit'): exit\n"
     ]
    }
   ],
   "source": [
    "def count_vowels(sentence):\n",
    "    vowels = {'a': 0, 'e': 0, 'i': 0, 'o': 0, 'u': 0}\n",
    "    sentence = sentence.lower()  # Convert to lowercase for case-insensitivity\n",
    "\n",
    "    for char in sentence:\n",
    "        if char in vowels:\n",
    "            vowels[char] += 1\n",
    "\n",
    "    return vowels\n",
    "while True:\n",
    "    try:\n",
    "        user_input = input(\"Enter a sentence (or type 'exit'): \")\n",
    "        if user_input.lower() == 'exit':\n",
    "            break\n",
    "\n",
    "        vowel_counts = count_vowels(user_input)\n",
    "\n",
    "        for vowel, count in vowel_counts.items():\n",
    "            print(f\"{vowel} appeared {count} time{'s' if count != 1 else ''}\") #Added pluralization\n",
    "\n",
    "        print(user_input.upper()) #Print the sentence in uppercase\n",
    "\n",
    "    except Exception as e: #Catch any potential errors\n",
    "        print(f\"An error occurred: {e}\")"
   ]
  },
  {
   "cell_type": "markdown",
   "id": "46838a6c",
   "metadata": {},
   "source": [
    "Task6:\n",
    "You need write a function that traces and makes a list of all such numbers\n",
    "from1000 to 3000 in which all the digits are even numbers."
   ]
  },
  {
   "cell_type": "code",
   "execution_count": 6,
   "id": "332968cd",
   "metadata": {},
   "outputs": [
    {
     "name": "stdout",
     "output_type": "stream",
     "text": [
      "Numbers with all even digits between 1000 and 3000:\n",
      "[2000, 2002, 2004, 2006, 2008, 2020, 2022, 2024, 2026, 2028, 2040, 2042, 2044, 2046, 2048, 2060, 2062, 2064, 2066, 2068, 2080, 2082, 2084, 2086, 2088, 2200, 2202, 2204, 2206, 2208, 2220, 2222, 2224, 2226, 2228, 2240, 2242, 2244, 2246, 2248, 2260, 2262, 2264, 2266, 2268, 2280, 2282, 2284, 2286, 2288, 2400, 2402, 2404, 2406, 2408, 2420, 2422, 2424, 2426, 2428, 2440, 2442, 2444, 2446, 2448, 2460, 2462, 2464, 2466, 2468, 2480, 2482, 2484, 2486, 2488, 2600, 2602, 2604, 2606, 2608, 2620, 2622, 2624, 2626, 2628, 2640, 2642, 2644, 2646, 2648, 2660, 2662, 2664, 2666, 2668, 2680, 2682, 2684, 2686, 2688, 2800, 2802, 2804, 2806, 2808, 2820, 2822, 2824, 2826, 2828, 2840, 2842, 2844, 2846, 2848, 2860, 2862, 2864, 2866, 2868, 2880, 2882, 2884, 2886, 2888]\n",
      "Test with invalid input passed: Input is invalid\n"
     ]
    }
   ],
   "source": [
    "def find_even_digit_numbers(start, end):\n",
    "    if not isinstance(start, int) or not isinstance(end, int) or start < 0 or end < 0 or start > end:\n",
    "        return None  \n",
    "\n",
    "    even_digit_numbers = [\n",
    "        num\n",
    "        for num in range(start, end + 1)\n",
    "        if all(int(digit) % 2 == 0 for digit in str(num))\n",
    "    ]\n",
    "    return even_digit_numbers\n",
    "start_range = 1000\n",
    "end_range = 3000\n",
    "result = find_even_digit_numbers(start_range, end_range)\n",
    "\n",
    "if result is None:\n",
    "    print(\"Invalid input range.\")\n",
    "elif result:\n",
    "    print(\"Numbers with all even digits between 1000 and 3000:\")\n",
    "    print(result)\n",
    "else:\n",
    "    print(\"No numbers with all even digits found within the specified range.\")\n",
    "invalid_start = 5000\n",
    "invalid_end = 2000\n",
    "result_invalid = find_even_digit_numbers(invalid_start, invalid_end)\n",
    "if result_invalid is None:\n",
    "    print(\"Test with invalid input passed: Input is invalid\")"
   ]
  },
  {
   "cell_type": "markdown",
   "id": "7f61b058",
   "metadata": {},
   "source": [
    "Task7:\n",
    "You need to write a code which accepts a sequence of comma separated 4 digit\n",
    "binary numbers as its input and then check whether they are divisible by 5 or not.\n",
    "The numbers that are divisible by 5 are to be printed in a comma separated\n",
    "sequence.\n",
    "Example:\n",
    "0100,0011,1010,1001\n",
    "Then the output should be:\n",
    "1010\n",
    "Reference: https://www.datacamp.com/.../python-data-type-conversion"
   ]
  },
  {
   "cell_type": "code",
   "execution_count": 7,
   "id": "e1cb0380",
   "metadata": {},
   "outputs": [],
   "source": [
    "def check_divisibility_by_5(binary_numbers_str):\n",
    "\n",
    "    try:\n",
    "        binary_numbers = binary_numbers_str.split(\",\")\n",
    "        divisible_by_5 = []\n",
    "\n",
    "        for binary_num in binary_numbers:\n",
    "            if len(binary_num) != 4:  # Check for 4-digit numbers\n",
    "              return \"Invalid input: All numbers must be 4 digits\"\n",
    "            try:\n",
    "\n",
    "              decimal_num = int(binary_num, 2)  # Convert binary to decimal\n",
    "              if decimal_num % 5 == 0:\n",
    "                  divisible_by_5.append(binary_num)\n",
    "            except ValueError:\n",
    "              return \"Invalid input: Non binary number found\"\n",
    "\n",
    "        return \",\".join(divisible_by_5)\n",
    "\n",
    "    except AttributeError:\n",
    "        return \"Invalid input: Input must be a string.\""
   ]
  },
  {
   "cell_type": "markdown",
   "id": "2359ffa5",
   "metadata": {},
   "source": [
    "Task8:\n",
    "Write a program that accepts a sentence and calculate the number of letters and\n",
    "digits.\n",
    "Suppose the following input is supplied to the program:\n",
    "hello world! 123\n",
    "Then, the output should be:\n",
    "LETTERS 10\n",
    "DIGITS 3\n"
   ]
  },
  {
   "cell_type": "code",
   "execution_count": 8,
   "id": "e6706baa",
   "metadata": {},
   "outputs": [
    {
     "name": "stdout",
     "output_type": "stream",
     "text": [
      "Enter a sentence (or type 'exit'): muneeb5522\n",
      "LETTERS 6\n",
      "DIGITS 4\n",
      "Enter a sentence (or type 'exit'): exit\n"
     ]
    }
   ],
   "source": [
    "def count_letters_and_digits(sentence):\n",
    "    if not isinstance(sentence, str):\n",
    "        return None\n",
    "\n",
    "    letter_count = 0\n",
    "    digit_count = 0\n",
    "\n",
    "    for char in sentence:\n",
    "        if 'a' <= char <= 'z' or 'A' <= char <= 'Z':\n",
    "            letter_count += 1\n",
    "        elif '0' <= char <= '9':\n",
    "            digit_count += 1\n",
    "\n",
    "    return {\"LETTERS\": letter_count, \"DIGITS\": digit_count}\n",
    "\n",
    "while True:\n",
    "    try:\n",
    "        user_input = input(\"Enter a sentence (or type 'exit'): \")\n",
    "        if user_input.lower() == 'exit':\n",
    "            break\n",
    "\n",
    "        result = count_letters_and_digits(user_input)\n",
    "\n",
    "        if result is None:\n",
    "            print(\"Invalid input. Please enter a string.\")\n",
    "        else:\n",
    "            print(f\"LETTERS {result['LETTERS']}\")\n",
    "            print(f\"DIGITS {result['DIGITS']}\")\n",
    "\n",
    "    except Exception as e:\n",
    "        print(f\"An error occurred: {e}\")"
   ]
  },
  {
   "cell_type": "code",
   "execution_count": null,
   "id": "bac08383",
   "metadata": {},
   "outputs": [],
   "source": []
  }
 ],
 "metadata": {
  "kernelspec": {
   "display_name": "Python 3 (ipykernel)",
   "language": "python",
   "name": "python3"
  },
  "language_info": {
   "codemirror_mode": {
    "name": "ipython",
    "version": 3
   },
   "file_extension": ".py",
   "mimetype": "text/x-python",
   "name": "python",
   "nbconvert_exporter": "python",
   "pygments_lexer": "ipython3",
   "version": "3.11.5"
  }
 },
 "nbformat": 4,
 "nbformat_minor": 5
}
